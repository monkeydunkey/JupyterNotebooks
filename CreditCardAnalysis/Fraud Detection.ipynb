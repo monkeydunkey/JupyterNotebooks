{
 "cells": [
  {
   "cell_type": "markdown",
   "metadata": {},
   "source": [
    "There will be a lot decisions made regarding features based on the analysis performed earlier. It can accessed in analysis.ipynb file."
   ]
  },
  {
   "cell_type": "code",
   "execution_count": 1,
   "metadata": {
    "collapsed": false
   },
   "outputs": [],
   "source": [
    "import pandas as pd\n",
    "import numpy as np\n",
    "import datetime \n",
    "from sklearn.ensemble import RandomForestClassifier\n",
    "from sklearn.model_selection import train_test_split\n",
    "from sklearn.metrics import accuracy_score\n",
    "from sklearn.metrics import roc_auc_score\n",
    "from sklearn.model_selection import GridSearchCV\n",
    "\n",
    "from sklearn.externals import joblib\n",
    "import pickle"
   ]
  },
  {
   "cell_type": "code",
   "execution_count": 2,
   "metadata": {
    "collapsed": true
   },
   "outputs": [],
   "source": [
    "creditCardData = pd.read_csv(\"Data/creditcard.csv\")"
   ]
  },
  {
   "cell_type": "code",
   "execution_count": 3,
   "metadata": {
    "collapsed": false
   },
   "outputs": [],
   "source": [
    "# Feature engineering\n",
    "\n",
    "# As the time provided is in seconds we can use it as seconds since epoch as we won't care about years\n",
    "def convert_totime(seconds):\n",
    "    return datetime.datetime.fromtimestamp(seconds);\n",
    "\n",
    "creditCardData['datetime'] = creditCardData.Time.apply(convert_totime)\n",
    "creditCardData['hour of the day'] = creditCardData.datetime + pd.Timedelta(\"7 hour\")\n",
    "creditCardData['hour of the day'] = creditCardData['hour of the day'].dt.hour\n",
    "creditCardData['isNight'] = (creditCardData['hour of the day'] >= 1) & (creditCardData['hour of the day'] <= 7)\n",
    "\n",
    "#dropping insignificant rows\n",
    "creditCardData = creditCardData.drop(['V22','V23','V25','V26','V13','V15', 'datetime'], axis = 1)"
   ]
  },
  {
   "cell_type": "code",
   "execution_count": 4,
   "metadata": {
    "collapsed": false
   },
   "outputs": [],
   "source": [
    "creditCardData['isNight'] = creditCardData['isNight'].map({False:0, True:1})\n",
    "# Creating Test and train Datasets. I am also fixing the random_state so that the sets remain same over multiple\n",
    "# executions so that results remain the same whenever I run it.\n",
    "train, test  = train_test_split(creditCardData, test_size=0.33, random_state=42)\n",
    "train_y = train.Class\n",
    "train_x = train.drop('Class', axis = 1)\n",
    "\n",
    "test_y = test.Class\n",
    "test_x = test.drop('Class', axis = 1)"
   ]
  },
  {
   "cell_type": "code",
   "execution_count": 7,
   "metadata": {
    "collapsed": false
   },
   "outputs": [
    {
     "name": "stdout",
     "output_type": "stream",
     "text": [
      "Accuracy: 0.999627608073\n",
      "AUC_ROC: 0.975602784522\n"
     ]
    }
   ],
   "source": [
    "model = RandomForestClassifier(n_estimators = 500, max_depth = 8, max_features = None)\n",
    "model.fit(train_x, train_y)\n",
    "\n",
    "preds = model.predict(test_x)\n",
    "preds_prob = model.predict_proba(test_x)\n",
    "\n",
    "print 'Accuracy:', accuracy_score(test_y, preds)\n",
    "print 'AUC_ROC:', roc_auc_score(test_y, [x[1] for x in preds_prob])"
   ]
  },
  {
   "cell_type": "markdown",
   "metadata": {},
   "source": [
    "The AUC_ROC looks good. We are correctly classifying a lot of positive classes(The fraud Cases). I think we can do better as till now we have not done anything to address the imbalance problem. \n",
    "\n",
    "I will be trying out 2 different ways to tackle it\n",
    "1. Use 'class_weights' parameter so that Random Forest will apply a higher weight to the positive class\n",
    "2. Use Synthetic Minority Over-sampling to oversample the positive class. I did not wanted to try undersampling as then the overall dataset size would be pretty small\n",
    "\n",
    "#### Using 'class_weight' parameter"
   ]
  },
  {
   "cell_type": "code",
   "execution_count": 6,
   "metadata": {
    "collapsed": false
   },
   "outputs": [
    {
     "name": "stdout",
     "output_type": "stream",
     "text": [
      "Accuracy: 0.999074340068\n",
      "AUC_ROC: 0.976120097595\n"
     ]
    }
   ],
   "source": [
    "model = RandomForestClassifier(n_estimators = 500, max_depth = 8, max_features = None, class_weight = 'balanced')\n",
    "model.fit(train_x, train_y)\n",
    "\n",
    "preds = model.predict(test_x)\n",
    "preds_prob = model.predict_proba(test_x)\n",
    "\n",
    "print 'Accuracy:', accuracy_score(test_y, preds)\n",
    "print 'AUC_ROC:', roc_auc_score(test_y, [x[1] for x in preds_prob])"
   ]
  },
  {
   "cell_type": "markdown",
   "metadata": {},
   "source": [
    "#### Using Synthetic Minority Over-sampling"
   ]
  },
  {
   "cell_type": "code",
   "execution_count": 8,
   "metadata": {
    "collapsed": false
   },
   "outputs": [
    {
     "name": "stdout",
     "output_type": "stream",
     "text": [
      "Accuracy: 0.999627608073\n",
      "AUC_ROC: 0.975463890289\n"
     ]
    }
   ],
   "source": [
    "from imblearn.over_sampling import SMOTE\n",
    "\n",
    "oversampler=SMOTE(random_state=0)\n",
    "os_train_x,os_train_y=oversampler.fit_sample(train_x,train_y)\n",
    "\n",
    "model = RandomForestClassifier(n_estimators = 500, max_depth = 8, max_features = None)\n",
    "model.fit(train_x, train_y)\n",
    "\n",
    "preds = model.predict(test_x)\n",
    "preds_prob = model.predict_proba(test_x)\n",
    "\n",
    "print 'Accuracy:', accuracy_score(test_y, preds)\n",
    "print 'AUC_ROC:', roc_auc_score(test_y, [x[1] for x in preds_prob])"
   ]
  },
  {
   "cell_type": "markdown",
   "metadata": {
    "collapsed": true
   },
   "source": [
    "The 'class_weight' parameter performed better than over-sampling. We can still achieve a better accuracy by fine tuning the hyperparameters, but that is for next time. Cheers!!"
   ]
  }
 ],
 "metadata": {
  "anaconda-cloud": {},
  "kernelspec": {
   "display_name": "Python [Root]",
   "language": "python",
   "name": "Python [Root]"
  },
  "language_info": {
   "codemirror_mode": {
    "name": "ipython",
    "version": 2
   },
   "file_extension": ".py",
   "mimetype": "text/x-python",
   "name": "python",
   "nbconvert_exporter": "python",
   "pygments_lexer": "ipython2",
   "version": "2.7.12"
  }
 },
 "nbformat": 4,
 "nbformat_minor": 0
}
