{
 "cells": [
  {
   "cell_type": "markdown",
   "metadata": {},
   "source": [
    "There will be a lot decisions made regarding features based on the analysis performed earlier. It can accessed in analysis.ipynb file."
   ]
  },
  {
   "cell_type": "code",
   "execution_count": 10,
   "metadata": {
    "collapsed": false
   },
   "outputs": [],
   "source": [
    "import pandas as pd\n",
    "import numpy as np\n",
    "import datetime \n",
    "from sklearn.ensemble import RandomForestClassifier\n",
    "from sklearn.model_selection import train_test_split\n",
    "from sklearn.metrics import accuracy_score\n",
    "from sklearn.metrics import roc_auc_score\n",
    "\n",
    "from sklearn.externals import joblib\n",
    "import pickle"
   ]
  },
  {
   "cell_type": "code",
   "execution_count": 2,
   "metadata": {
    "collapsed": true
   },
   "outputs": [],
   "source": [
    "creditCardData = pd.read_csv(\"Data/creditcard.csv\")"
   ]
  },
  {
   "cell_type": "code",
   "execution_count": 3,
   "metadata": {
    "collapsed": false
   },
   "outputs": [],
   "source": [
    "# Feature engineering\n",
    "\n",
    "# As the time provided is in seconds we can use it as seconds since epoch as we won't care about years\n",
    "def convert_totime(seconds):\n",
    "    return datetime.datetime.fromtimestamp(seconds);\n",
    "\n",
    "creditCardData['datetime'] = creditCardData.Time.apply(convert_totime)\n",
    "creditCardData['hour of the day'] = creditCardData.datetime + pd.Timedelta(\"7 hour\")\n",
    "creditCardData['hour of the day'] = creditCardData['hour of the day'].dt.hour\n",
    "creditCardData['isNight'] = (creditCardData['hour of the day'] >= 1) & (creditCardData['hour of the day'] <= 7)\n",
    "\n",
    "#dropping insignificant rows\n",
    "creditCardData = creditCardData.drop(['V22','V23','V25','V26','V13','V15', 'datetime'], axis = 1)"
   ]
  },
  {
   "cell_type": "code",
   "execution_count": 4,
   "metadata": {
    "collapsed": false
   },
   "outputs": [],
   "source": [
    "creditCardData['isNight'] = creditCardData['isNight'].map({False:0, True:1})\n",
    "train, test  = train_test_split(creditCardData, test_size=0.33, random_state=42)"
   ]
  },
  {
   "cell_type": "code",
   "execution_count": 12,
   "metadata": {
    "collapsed": false
   },
   "outputs": [],
   "source": [
    "model = RandomForestClassifier(n_estimators = 500, max_depth = 8, max_features = None)\n",
    "train_y = train.Class\n",
    "train_x = train.drop('Class', axis = 1)\n",
    "model.fit(train_x, train_y)\n",
    "test_y = test.Class\n",
    "test_x = test.drop('Class', axis = 1)\n",
    "preds = model.predict(test_x)\n",
    "preds_prob = model.predict_proba(test_x)"
   ]
  },
  {
   "cell_type": "code",
   "execution_count": 19,
   "metadata": {
    "collapsed": false
   },
   "outputs": [
    {
     "name": "stdout",
     "output_type": "stream",
     "text": [
      "Accuracy: 0.999595688765\n",
      "AUC_ROC: 0.973519621349\n"
     ]
    }
   ],
   "source": [
    "print 'Accuracy:', accuracy_score(test_y, preds)\n",
    "print 'AUC_ROC:', roc_auc_score(test_y, [x[1] for x in preds_prob])"
   ]
  },
  {
   "cell_type": "markdown",
   "metadata": {},
   "source": [
    "The parameters n_estimators, max_depth and max_features have been tuned using Grid Search and Cross Validation"
   ]
  },
  {
   "cell_type": "code",
   "execution_count": null,
   "metadata": {
    "collapsed": true
   },
   "outputs": [],
   "source": []
  }
 ],
 "metadata": {
  "anaconda-cloud": {},
  "kernelspec": {
   "display_name": "Python [Root]",
   "language": "python",
   "name": "Python [Root]"
  },
  "language_info": {
   "codemirror_mode": {
    "name": "ipython",
    "version": 2
   },
   "file_extension": ".py",
   "mimetype": "text/x-python",
   "name": "python",
   "nbconvert_exporter": "python",
   "pygments_lexer": "ipython2",
   "version": "2.7.12"
  }
 },
 "nbformat": 4,
 "nbformat_minor": 0
}
