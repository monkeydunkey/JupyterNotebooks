{
 "cells": [
  {
   "cell_type": "markdown",
   "metadata": {},
   "source": [
    "#### The following analysis explores the relationship between the plot keywords between the following set of movie\n",
    "1. IMBD top 250\n",
    "2. Top 250 highest grossing movies\n",
    "3. Top 250 movies with the highest budget\n",
    "\n",
    "#### The aim is to see what kind of movies are liked by the audience, critics and producers and whether or not there is an overlap"
   ]
  },
  {
   "cell_type": "code",
   "execution_count": 1,
   "metadata": {
    "collapsed": true
   },
   "outputs": [],
   "source": [
    "%matplotlib inline\n",
    "\n",
    "import pandas as pd\n",
    "import numpy as np\n",
    "import seaborn as sns\n",
    "from sklearn.feature_extraction.text import CountVectorizer"
   ]
  },
  {
   "cell_type": "code",
   "execution_count": 2,
   "metadata": {
    "collapsed": false
   },
   "outputs": [
    {
     "data": {
      "text/html": [
       "<div>\n",
       "<table border=\"1\" class=\"dataframe\">\n",
       "  <thead>\n",
       "    <tr style=\"text-align: right;\">\n",
       "      <th></th>\n",
       "      <th>color</th>\n",
       "      <th>director_name</th>\n",
       "      <th>num_critic_for_reviews</th>\n",
       "      <th>duration</th>\n",
       "      <th>director_facebook_likes</th>\n",
       "      <th>actor_3_facebook_likes</th>\n",
       "      <th>actor_2_name</th>\n",
       "      <th>actor_1_facebook_likes</th>\n",
       "      <th>gross</th>\n",
       "      <th>genres</th>\n",
       "      <th>...</th>\n",
       "      <th>num_user_for_reviews</th>\n",
       "      <th>language</th>\n",
       "      <th>country</th>\n",
       "      <th>content_rating</th>\n",
       "      <th>budget</th>\n",
       "      <th>title_year</th>\n",
       "      <th>actor_2_facebook_likes</th>\n",
       "      <th>imdb_score</th>\n",
       "      <th>aspect_ratio</th>\n",
       "      <th>movie_facebook_likes</th>\n",
       "    </tr>\n",
       "  </thead>\n",
       "  <tbody>\n",
       "    <tr>\n",
       "      <th>0</th>\n",
       "      <td>Color</td>\n",
       "      <td>James Cameron</td>\n",
       "      <td>723.0</td>\n",
       "      <td>178.0</td>\n",
       "      <td>0.0</td>\n",
       "      <td>855.0</td>\n",
       "      <td>Joel David Moore</td>\n",
       "      <td>1000.0</td>\n",
       "      <td>760505847.0</td>\n",
       "      <td>Action|Adventure|Fantasy|Sci-Fi</td>\n",
       "      <td>...</td>\n",
       "      <td>3054.0</td>\n",
       "      <td>English</td>\n",
       "      <td>USA</td>\n",
       "      <td>PG-13</td>\n",
       "      <td>237000000.0</td>\n",
       "      <td>2009.0</td>\n",
       "      <td>936.0</td>\n",
       "      <td>7.9</td>\n",
       "      <td>1.78</td>\n",
       "      <td>33000</td>\n",
       "    </tr>\n",
       "    <tr>\n",
       "      <th>1</th>\n",
       "      <td>Color</td>\n",
       "      <td>Gore Verbinski</td>\n",
       "      <td>302.0</td>\n",
       "      <td>169.0</td>\n",
       "      <td>563.0</td>\n",
       "      <td>1000.0</td>\n",
       "      <td>Orlando Bloom</td>\n",
       "      <td>40000.0</td>\n",
       "      <td>309404152.0</td>\n",
       "      <td>Action|Adventure|Fantasy</td>\n",
       "      <td>...</td>\n",
       "      <td>1238.0</td>\n",
       "      <td>English</td>\n",
       "      <td>USA</td>\n",
       "      <td>PG-13</td>\n",
       "      <td>300000000.0</td>\n",
       "      <td>2007.0</td>\n",
       "      <td>5000.0</td>\n",
       "      <td>7.1</td>\n",
       "      <td>2.35</td>\n",
       "      <td>0</td>\n",
       "    </tr>\n",
       "    <tr>\n",
       "      <th>2</th>\n",
       "      <td>Color</td>\n",
       "      <td>Sam Mendes</td>\n",
       "      <td>602.0</td>\n",
       "      <td>148.0</td>\n",
       "      <td>0.0</td>\n",
       "      <td>161.0</td>\n",
       "      <td>Rory Kinnear</td>\n",
       "      <td>11000.0</td>\n",
       "      <td>200074175.0</td>\n",
       "      <td>Action|Adventure|Thriller</td>\n",
       "      <td>...</td>\n",
       "      <td>994.0</td>\n",
       "      <td>English</td>\n",
       "      <td>UK</td>\n",
       "      <td>PG-13</td>\n",
       "      <td>245000000.0</td>\n",
       "      <td>2015.0</td>\n",
       "      <td>393.0</td>\n",
       "      <td>6.8</td>\n",
       "      <td>2.35</td>\n",
       "      <td>85000</td>\n",
       "    </tr>\n",
       "    <tr>\n",
       "      <th>3</th>\n",
       "      <td>Color</td>\n",
       "      <td>Christopher Nolan</td>\n",
       "      <td>813.0</td>\n",
       "      <td>164.0</td>\n",
       "      <td>22000.0</td>\n",
       "      <td>23000.0</td>\n",
       "      <td>Christian Bale</td>\n",
       "      <td>27000.0</td>\n",
       "      <td>448130642.0</td>\n",
       "      <td>Action|Thriller</td>\n",
       "      <td>...</td>\n",
       "      <td>2701.0</td>\n",
       "      <td>English</td>\n",
       "      <td>USA</td>\n",
       "      <td>PG-13</td>\n",
       "      <td>250000000.0</td>\n",
       "      <td>2012.0</td>\n",
       "      <td>23000.0</td>\n",
       "      <td>8.5</td>\n",
       "      <td>2.35</td>\n",
       "      <td>164000</td>\n",
       "    </tr>\n",
       "    <tr>\n",
       "      <th>4</th>\n",
       "      <td>NaN</td>\n",
       "      <td>Doug Walker</td>\n",
       "      <td>NaN</td>\n",
       "      <td>NaN</td>\n",
       "      <td>131.0</td>\n",
       "      <td>NaN</td>\n",
       "      <td>Rob Walker</td>\n",
       "      <td>131.0</td>\n",
       "      <td>NaN</td>\n",
       "      <td>Documentary</td>\n",
       "      <td>...</td>\n",
       "      <td>NaN</td>\n",
       "      <td>NaN</td>\n",
       "      <td>NaN</td>\n",
       "      <td>NaN</td>\n",
       "      <td>NaN</td>\n",
       "      <td>NaN</td>\n",
       "      <td>12.0</td>\n",
       "      <td>7.1</td>\n",
       "      <td>NaN</td>\n",
       "      <td>0</td>\n",
       "    </tr>\n",
       "  </tbody>\n",
       "</table>\n",
       "<p>5 rows × 28 columns</p>\n",
       "</div>"
      ],
      "text/plain": [
       "   color      director_name  num_critic_for_reviews  duration  \\\n",
       "0  Color      James Cameron                   723.0     178.0   \n",
       "1  Color     Gore Verbinski                   302.0     169.0   \n",
       "2  Color         Sam Mendes                   602.0     148.0   \n",
       "3  Color  Christopher Nolan                   813.0     164.0   \n",
       "4    NaN        Doug Walker                     NaN       NaN   \n",
       "\n",
       "   director_facebook_likes  actor_3_facebook_likes      actor_2_name  \\\n",
       "0                      0.0                   855.0  Joel David Moore   \n",
       "1                    563.0                  1000.0     Orlando Bloom   \n",
       "2                      0.0                   161.0      Rory Kinnear   \n",
       "3                  22000.0                 23000.0    Christian Bale   \n",
       "4                    131.0                     NaN        Rob Walker   \n",
       "\n",
       "   actor_1_facebook_likes        gross                           genres  \\\n",
       "0                  1000.0  760505847.0  Action|Adventure|Fantasy|Sci-Fi   \n",
       "1                 40000.0  309404152.0         Action|Adventure|Fantasy   \n",
       "2                 11000.0  200074175.0        Action|Adventure|Thriller   \n",
       "3                 27000.0  448130642.0                  Action|Thriller   \n",
       "4                   131.0          NaN                      Documentary   \n",
       "\n",
       "          ...          num_user_for_reviews language  country  content_rating  \\\n",
       "0         ...                        3054.0  English      USA           PG-13   \n",
       "1         ...                        1238.0  English      USA           PG-13   \n",
       "2         ...                         994.0  English       UK           PG-13   \n",
       "3         ...                        2701.0  English      USA           PG-13   \n",
       "4         ...                           NaN      NaN      NaN             NaN   \n",
       "\n",
       "        budget  title_year actor_2_facebook_likes imdb_score  aspect_ratio  \\\n",
       "0  237000000.0      2009.0                  936.0        7.9          1.78   \n",
       "1  300000000.0      2007.0                 5000.0        7.1          2.35   \n",
       "2  245000000.0      2015.0                  393.0        6.8          2.35   \n",
       "3  250000000.0      2012.0                23000.0        8.5          2.35   \n",
       "4          NaN         NaN                   12.0        7.1           NaN   \n",
       "\n",
       "  movie_facebook_likes  \n",
       "0                33000  \n",
       "1                    0  \n",
       "2                85000  \n",
       "3               164000  \n",
       "4                    0  \n",
       "\n",
       "[5 rows x 28 columns]"
      ]
     },
     "execution_count": 2,
     "metadata": {},
     "output_type": "execute_result"
    }
   ],
   "source": [
    "df = pd.read_csv('data/movie_metadata.csv')\n",
    "df.head()"
   ]
  },
  {
   "cell_type": "code",
   "execution_count": 3,
   "metadata": {
    "collapsed": false
   },
   "outputs": [
    {
     "data": {
      "text/plain": [
       "color                         object\n",
       "director_name                 object\n",
       "num_critic_for_reviews       float64\n",
       "duration                     float64\n",
       "director_facebook_likes      float64\n",
       "actor_3_facebook_likes       float64\n",
       "actor_2_name                  object\n",
       "actor_1_facebook_likes       float64\n",
       "gross                        float64\n",
       "genres                        object\n",
       "actor_1_name                  object\n",
       "movie_title                   object\n",
       "num_voted_users                int64\n",
       "cast_total_facebook_likes      int64\n",
       "actor_3_name                  object\n",
       "facenumber_in_poster         float64\n",
       "plot_keywords                 object\n",
       "movie_imdb_link               object\n",
       "num_user_for_reviews         float64\n",
       "language                      object\n",
       "country                       object\n",
       "content_rating                object\n",
       "budget                       float64\n",
       "title_year                   float64\n",
       "actor_2_facebook_likes       float64\n",
       "imdb_score                   float64\n",
       "aspect_ratio                 float64\n",
       "movie_facebook_likes           int64\n",
       "dtype: object"
      ]
     },
     "execution_count": 3,
     "metadata": {},
     "output_type": "execute_result"
    }
   ],
   "source": [
    "df.dtypes"
   ]
  },
  {
   "cell_type": "code",
   "execution_count": 4,
   "metadata": {
    "collapsed": false
   },
   "outputs": [
    {
     "data": {
      "text/html": [
       "<div>\n",
       "<table border=\"1\" class=\"dataframe\">\n",
       "  <thead>\n",
       "    <tr style=\"text-align: right;\">\n",
       "      <th></th>\n",
       "      <th>plot_keywords</th>\n",
       "      <th>gross</th>\n",
       "      <th>budget</th>\n",
       "      <th>duration</th>\n",
       "      <th>imdb_score</th>\n",
       "      <th>movie_title</th>\n",
       "      <th>tags</th>\n",
       "    </tr>\n",
       "  </thead>\n",
       "  <tbody>\n",
       "    <tr>\n",
       "      <th>0</th>\n",
       "      <td>avatar|future|marine|native|paraplegic</td>\n",
       "      <td>760505847.0</td>\n",
       "      <td>237000000.0</td>\n",
       "      <td>178.0</td>\n",
       "      <td>7.9</td>\n",
       "      <td>Avatar</td>\n",
       "      <td>avatar</td>\n",
       "    </tr>\n",
       "    <tr>\n",
       "      <th>0</th>\n",
       "      <td>avatar|future|marine|native|paraplegic</td>\n",
       "      <td>760505847.0</td>\n",
       "      <td>237000000.0</td>\n",
       "      <td>178.0</td>\n",
       "      <td>7.9</td>\n",
       "      <td>Avatar</td>\n",
       "      <td>future</td>\n",
       "    </tr>\n",
       "    <tr>\n",
       "      <th>0</th>\n",
       "      <td>avatar|future|marine|native|paraplegic</td>\n",
       "      <td>760505847.0</td>\n",
       "      <td>237000000.0</td>\n",
       "      <td>178.0</td>\n",
       "      <td>7.9</td>\n",
       "      <td>Avatar</td>\n",
       "      <td>marine</td>\n",
       "    </tr>\n",
       "    <tr>\n",
       "      <th>0</th>\n",
       "      <td>avatar|future|marine|native|paraplegic</td>\n",
       "      <td>760505847.0</td>\n",
       "      <td>237000000.0</td>\n",
       "      <td>178.0</td>\n",
       "      <td>7.9</td>\n",
       "      <td>Avatar</td>\n",
       "      <td>native</td>\n",
       "    </tr>\n",
       "    <tr>\n",
       "      <th>0</th>\n",
       "      <td>avatar|future|marine|native|paraplegic</td>\n",
       "      <td>760505847.0</td>\n",
       "      <td>237000000.0</td>\n",
       "      <td>178.0</td>\n",
       "      <td>7.9</td>\n",
       "      <td>Avatar</td>\n",
       "      <td>paraplegic</td>\n",
       "    </tr>\n",
       "  </tbody>\n",
       "</table>\n",
       "</div>"
      ],
      "text/plain": [
       "                            plot_keywords        gross       budget  duration  \\\n",
       "0  avatar|future|marine|native|paraplegic  760505847.0  237000000.0     178.0   \n",
       "0  avatar|future|marine|native|paraplegic  760505847.0  237000000.0     178.0   \n",
       "0  avatar|future|marine|native|paraplegic  760505847.0  237000000.0     178.0   \n",
       "0  avatar|future|marine|native|paraplegic  760505847.0  237000000.0     178.0   \n",
       "0  avatar|future|marine|native|paraplegic  760505847.0  237000000.0     178.0   \n",
       "\n",
       "   imdb_score movie_title        tags  \n",
       "0         7.9     Avatar       avatar  \n",
       "0         7.9     Avatar       future  \n",
       "0         7.9     Avatar       marine  \n",
       "0         7.9     Avatar       native  \n",
       "0         7.9     Avatar   paraplegic  "
      ]
     },
     "execution_count": 4,
     "metadata": {},
     "output_type": "execute_result"
    }
   ],
   "source": [
    "df = df[df['num_voted_users'] > 100][['plot_keywords', 'gross', 'budget','duration','imdb_score', 'movie_title']]\n",
    "# Split the plot_keyword string based on '|' and add an row for each string that is returned\n",
    "tags = df['plot_keywords'].copy().str.split('|').apply(pd.Series, 1).stack()\n",
    "tags.index = tags.index.droplevel(-1)\n",
    "tags.index\n",
    "tags.name = 'tags'\n",
    "df = df.join(tags)\n",
    "df.head()"
   ]
  },
  {
   "cell_type": "code",
   "execution_count": 5,
   "metadata": {
    "collapsed": false
   },
   "outputs": [
    {
     "data": {
      "text/plain": [
       "<23933x11125 sparse matrix of type '<type 'numpy.int64'>'\n",
       "\twith 44851 stored elements in Compressed Sparse Row format>"
      ]
     },
     "execution_count": 5,
     "metadata": {},
     "output_type": "execute_result"
    }
   ],
   "source": [
    "count_vect = CountVectorizer(ngram_range=(1,2), stop_words ={'and', 'in', 'of', 'the', 'on','to', 'title','reference',\\\n",
    "                                                             'female','male','by'})\n",
    "# Calculated only term frequency.\n",
    "X_train_counts = count_vect.fit_transform(df.tags.dropna())\n",
    "X_train_counts"
   ]
  },
  {
   "cell_type": "code",
   "execution_count": 6,
   "metadata": {
    "collapsed": false
   },
   "outputs": [
    {
     "data": {
      "image/png": "[encoded data removed]",
      "text/plain": [
       "<matplotlib.figure.Figure at 0x116279710>"
      ]
     },
     "metadata": {},
     "output_type": "display_data"
    }
   ],
   "source": [
    "MaxFeatureValues = X_train_counts.todense().sum(axis = 0).tolist()[0]\n",
    "phrase_scores = [pair for pair in zip(range(0, len(MaxFeatureValues)), MaxFeatureValues) if pair[1] > 0]\n",
    "TopTags = sorted(phrase_scores, key=lambda t: t[1] * -1)[:30]\n",
    "ind = [x[0] for x in TopTags]\n",
    "topValues = [x[1] for x in TopTags]\n",
    "featurelist = count_vect.get_feature_names()\n",
    "TopTagsNames = [featurelist[j] for j in ind]\n",
    "TopTagsDf = pd.DataFrame({'Tag':TopTagsNames,'ValueCount':topValues})\n",
    "ax = sns.factorplot(x=\"Tag\", y=\"ValueCount\", data = TopTagsDf, kind=\"bar\", size=6, aspect=4)"
   ]
  },
  {
   "cell_type": "code",
   "execution_count": 7,
   "metadata": {
    "collapsed": false
   },
   "outputs": [
    {
     "data": {
      "text/plain": [
       "[u'nudity',\n",
       " u'love',\n",
       " u'school',\n",
       " u'friend',\n",
       " u'police',\n",
       " u'death',\n",
       " u'sex',\n",
       " u'new',\n",
       " u'murder',\n",
       " u'relationship',\n",
       " u'based',\n",
       " u'new york',\n",
       " u'york',\n",
       " u'city',\n",
       " u'high',\n",
       " u'girl',\n",
       " u'high school',\n",
       " u'film',\n",
       " u'york city',\n",
       " u'alien',\n",
       " u'american',\n",
       " u'car',\n",
       " u'boy',\n",
       " u'word',\n",
       " u'war',\n",
       " u'fbi',\n",
       " u'man',\n",
       " u'secret',\n",
       " u'friendship',\n",
       " u'frontal']"
      ]
     },
     "execution_count": 7,
     "metadata": {},
     "output_type": "execute_result"
    }
   ],
   "source": [
    "# These are top 30 tags in all the plot keywords\n",
    "TopTagsNames"
   ]
  },
  {
   "cell_type": "code",
   "execution_count": 8,
   "metadata": {
    "collapsed": false
   },
   "outputs": [
    {
     "data": {
      "text/plain": [
       "<1221x1559 sparse matrix of type '<type 'numpy.int64'>'\n",
       "\twith 2345 stored elements in Compressed Sparse Row format>"
      ]
     },
     "execution_count": 8,
     "metadata": {},
     "output_type": "execute_result"
    }
   ],
   "source": [
    "Top250 = df[['movie_title','imdb_score']].drop_duplicates().sort_values('imdb_score').tail(250)\n",
    "Top250IMDBScore = Top250.join(df[['tags']])\n",
    "X_train_counts = count_vect.fit_transform(Top250IMDBScore.tags.dropna())\n",
    "X_train_counts"
   ]
  },
  {
   "cell_type": "code",
   "execution_count": 9,
   "metadata": {
    "collapsed": false
   },
   "outputs": [
    {
     "data": {
      "image/png": "[encoded data removed]",
      "text/plain": [
       "<matplotlib.figure.Figure at 0x115e83990>"
      ]
     },
     "metadata": {},
     "output_type": "display_data"
    }
   ],
   "source": [
    "MaxFeatureValues = X_train_counts.todense().sum(axis = 0).tolist()[0]\n",
    "phrase_scores = [pair for pair in zip(range(0, len(MaxFeatureValues)), MaxFeatureValues) if pair[1] > 0]\n",
    "TopTags = sorted(phrase_scores, key=lambda t: t[1] * -1)[:30]\n",
    "ind = [x[0] for x in TopTags]\n",
    "featurelist = count_vect.get_feature_names()\n",
    "topValuesIMDB250 = [x[1] for x in TopTags]\n",
    "TopTagsNamesIMDB250 = [featurelist[j] for j in ind]\n",
    "ay = sns.factorplot(x=\"Tag\", y=\"ValueCount\", data = pd.DataFrame({'Tag':TopTagsNamesIMDB250,\n",
    "                                                                  'ValueCount':topValuesIMDB250}),kind=\"bar\",\n",
    "                    size=6, aspect=4)\n"
   ]
  },
  {
   "cell_type": "code",
   "execution_count": 10,
   "metadata": {
    "collapsed": false
   },
   "outputs": [
    {
     "data": {
      "text/plain": [
       "[u'police',\n",
       " u'war',\n",
       " u'friend',\n",
       " u'death',\n",
       " u'love',\n",
       " u'based',\n",
       " u'murder',\n",
       " u'nudity',\n",
       " u'relationship',\n",
       " u'school',\n",
       " u'escape',\n",
       " u'girl',\n",
       " u'space',\n",
       " u'time',\n",
       " u'century',\n",
       " u'christmas',\n",
       " u'detective',\n",
       " u'alien',\n",
       " u'family',\n",
       " u'gang',\n",
       " u'high',\n",
       " u'memory',\n",
       " u'nazi',\n",
       " u'soldier',\n",
       " u'travel',\n",
       " u'vietnam',\n",
       " u'american',\n",
       " u'boxing',\n",
       " u'brother',\n",
       " u'crime']"
      ]
     },
     "execution_count": 10,
     "metadata": {},
     "output_type": "execute_result"
    }
   ],
   "source": [
    "#Tag associated with the top 250 movies on IMDB\n",
    "TopTagsNamesIMDB250"
   ]
  },
  {
   "cell_type": "code",
   "execution_count": 11,
   "metadata": {
    "collapsed": false
   },
   "outputs": [
    {
     "data": {
      "text/plain": [
       "<1009x1310 sparse matrix of type '<type 'numpy.int64'>'\n",
       "\twith 1985 stored elements in Compressed Sparse Row format>"
      ]
     },
     "execution_count": 11,
     "metadata": {},
     "output_type": "execute_result"
    }
   ],
   "source": [
    "Top250 = df[['movie_title','gross']].drop_duplicates().sort_values('gross').tail(250)\n",
    "Top250Grossing = Top250.join(df[['tags']])\n",
    "X_train_counts = count_vect.fit_transform(Top250Grossing.tags.dropna())\n",
    "X_train_counts"
   ]
  },
  {
   "cell_type": "code",
   "execution_count": 12,
   "metadata": {
    "collapsed": false
   },
   "outputs": [
    {
     "data": {
      "image/png": "[encoded data removed]",
      "text/plain": [
       "<matplotlib.figure.Figure at 0x115e78050>"
      ]
     },
     "metadata": {},
     "output_type": "display_data"
    }
   ],
   "source": [
    "MaxFeatureValues = X_train_counts.todense().sum(axis = 0).tolist()[0]\n",
    "phrase_scores = [pair for pair in zip(range(0, len(MaxFeatureValues)), MaxFeatureValues) if pair[1] > 0]\n",
    "TopTags = sorted(phrase_scores, key=lambda t: t[1] * -1)[:30]\n",
    "ind = [x[0] for x in TopTags]\n",
    "featurelist = count_vect.get_feature_names()\n",
    "topValues250Grossing = [x[1] for x in TopTags]\n",
    "TopTagsNames250Grossing = [featurelist[j] for j in ind]\n",
    "ay = sns.factorplot(x=\"Tag\", y=\"ValueCount\", data = pd.DataFrame({'Tag':TopTagsNames250Grossing,\n",
    "                                                                  'ValueCount':topValues250Grossing}),kind=\"bar\",\n",
    "                    size=6, aspect=4)"
   ]
  },
  {
   "cell_type": "code",
   "execution_count": 13,
   "metadata": {
    "collapsed": false
   },
   "outputs": [
    {
     "data": {
      "text/plain": [
       "[u'nudity',\n",
       " u'relationship',\n",
       " u'sex',\n",
       " u'based',\n",
       " u'film',\n",
       " u'police',\n",
       " u'death',\n",
       " u'frontal',\n",
       " u'frontal nudity',\n",
       " u'love',\n",
       " u'girl',\n",
       " u'new',\n",
       " u'party',\n",
       " u'city',\n",
       " u'cult',\n",
       " u'friend',\n",
       " u'new york',\n",
       " u'school',\n",
       " u'series',\n",
       " u'war',\n",
       " u'woman',\n",
       " u'word',\n",
       " u'york',\n",
       " u'father',\n",
       " u'man',\n",
       " u'one',\n",
       " u'panties',\n",
       " u'trip',\n",
       " u'zombie',\n",
       " u'blood']"
      ]
     },
     "execution_count": 13,
     "metadata": {},
     "output_type": "execute_result"
    }
   ],
   "source": [
    "# Tags associated with the highest grossing movies\n",
    "TopTagsNames250Grossing"
   ]
  },
  {
   "cell_type": "code",
   "execution_count": 14,
   "metadata": {
    "collapsed": false
   },
   "outputs": [
    {
     "data": {
      "text/plain": [
       "<1137x1420 sparse matrix of type '<type 'numpy.int64'>'\n",
       "\twith 2285 stored elements in Compressed Sparse Row format>"
      ]
     },
     "execution_count": 14,
     "metadata": {},
     "output_type": "execute_result"
    }
   ],
   "source": [
    "Top250 = df[['movie_title','budget']].drop_duplicates().sort_values('budget').tail(250)\n",
    "Top250Budget = Top250.join(df[['tags']])\n",
    "X_train_counts = count_vect.fit_transform(Top250Budget.tags.dropna())\n",
    "X_train_counts"
   ]
  },
  {
   "cell_type": "code",
   "execution_count": 15,
   "metadata": {
    "collapsed": false
   },
   "outputs": [
    {
     "data": {
      "image/png": "[encoded data removed]",
      "text/plain": [
       "<matplotlib.figure.Figure at 0x1168324d0>"
      ]
     },
     "metadata": {},
     "output_type": "display_data"
    }
   ],
   "source": [
    "MaxFeatureValues = X_train_counts.todense().sum(axis = 0).tolist()[0]\n",
    "phrase_scores = [pair for pair in zip(range(0, len(MaxFeatureValues)), MaxFeatureValues) if pair[1] > 0]\n",
    "TopTags = sorted(phrase_scores, key=lambda t: t[1] * -1)[:30]\n",
    "ind = [x[0] for x in TopTags]\n",
    "featurelist = count_vect.get_feature_names()\n",
    "topValues250Budget = [x[1] for x in TopTags]\n",
    "TopTagsNames250Budget = [featurelist[j] for j in ind]\n",
    "ay = sns.factorplot(x=\"Tag\", y=\"ValueCount\", data = pd.DataFrame({'Tag':TopTagsNames250Budget,\n",
    "                                                                  'ValueCount':topValues250Budget}),kind=\"bar\",\n",
    "                    size=6, aspect=4)"
   ]
  },
  {
   "cell_type": "code",
   "execution_count": 16,
   "metadata": {
    "collapsed": false
   },
   "outputs": [
    {
     "data": {
      "text/plain": [
       "[u'nudity',\n",
       " u'school',\n",
       " u'sex',\n",
       " u'new',\n",
       " u'new york',\n",
       " u'relationship',\n",
       " u'york',\n",
       " u'frontal',\n",
       " u'frontal nudity',\n",
       " u'friend',\n",
       " u'police',\n",
       " u'high',\n",
       " u'one',\n",
       " u'city',\n",
       " u'friendship',\n",
       " u'high school',\n",
       " u'based',\n",
       " u'brother',\n",
       " u'love',\n",
       " u'death',\n",
       " u'girl',\n",
       " u'series',\n",
       " u'word',\n",
       " u'york city',\n",
       " u'best',\n",
       " u'father',\n",
       " u'hair',\n",
       " u'mother',\n",
       " u'singer',\n",
       " u'best friend']"
      ]
     },
     "execution_count": 16,
     "metadata": {},
     "output_type": "execute_result"
    }
   ],
   "source": [
    "#Tags associated with the highest budgeted movies\n",
    "TopTagsNames250Budget"
   ]
  },
  {
   "cell_type": "markdown",
   "metadata": {},
   "source": [
    "Nudity and sex seems to be a good selling point for blockbusters and the producers know it too as it is equally common in big budget movies. Apart from that New York is pretty popular in movies as it comes in all the lists except for the IMDB top 250. \n",
    "\n",
    "Finally people like to go to watch movies to which they can relate to that is why i guess sex, nudity and relationship are the top 3 keywords in the higest grossing movies and producers and cinema houses seems to know their audience as well. The highest rated films however are of a different class as they seem to tackle deeper and some times fictonal issue.\n",
    "\n",
    "P.S. - I was not able find a way to properly represent the fact on graph, if you have an idea or method please leave a comment. "
   ]
  },
  {
   "cell_type": "code",
   "execution_count": 34,
   "metadata": {
    "collapsed": false
   },
   "outputs": [],
   "source": [
    "commonTags = list(set(TopTagsNames250Budget).intersection(TopTagsNames250Grossing).intersection(TopTagsNamesIMDB250))"
   ]
  },
  {
   "cell_type": "code",
   "execution_count": 50,
   "metadata": {
    "collapsed": false
   },
   "outputs": [],
   "source": [
    "Top250Budget = pd.DataFrame({'Tag':TopTagsNames250Budget,'ValueCount':topValues250Budget})\n",
    "Top250IMDB = pd.DataFrame({'Tag':TopTagsNamesIMDB250,'ValueCount':topValuesIMDB250})\n",
    "Top250Gross = pd.DataFrame({'Tag':TopTagsNames250Grossing,'ValueCount':topValues250Grossing})"
   ]
  },
  {
   "cell_type": "code",
   "execution_count": 51,
   "metadata": {
    "collapsed": false
   },
   "outputs": [
    {
     "data": {
      "text/plain": [
       "<matplotlib.axes._subplots.AxesSubplot at 0x116f34190>"
      ]
     },
     "execution_count": 51,
     "metadata": {},
     "output_type": "execute_result"
    },
    {
     "data": {
      "image/png": "[encoded data removed]",
      "text/plain": [
       "<matplotlib.figure.Figure at 0x116f0b250>"
      ]
     },
     "metadata": {},
     "output_type": "display_data"
    }
   ],
   "source": [
    "Top250BudgetFiltered = Top250Budget.copy()[Top250Budget['Tag'].isin(commonTags)]\n",
    "Top250BudgetFiltered['type'] = 'Budget'\n",
    "Top250IMDBFiltered = Top250IMDB.copy()[Top250IMDB['Tag'].isin(commonTags)]\n",
    "Top250IMDBFiltered['type'] = 'IMDBScore'\n",
    "Top250GrossFiltered = Top250Gross.copy()[Top250Gross['Tag'].isin(commonTags)]\n",
    "Top250GrossFiltered['type'] = 'Grossing'\n",
    "Top250BudgetFiltered = Top250BudgetFiltered.append(Top250IMDBFiltered).append(Top250GrossFiltered)\n",
    "sns.pointplot(x=\"Tag\", y=\"ValueCount\", hue=\"type\", data=Top250BudgetFiltered)"
   ]
  },
  {
   "cell_type": "code",
   "execution_count": null,
   "metadata": {
    "collapsed": false
   },
   "outputs": [],
   "source": []
  },
  {
   "cell_type": "code",
   "execution_count": null,
   "metadata": {
    "collapsed": true
   },
   "outputs": [],
   "source": []
  }
 ],
 "metadata": {
  "anaconda-cloud": {},
  "kernelspec": {
   "display_name": "Python [Root]",
   "language": "python",
   "name": "Python [Root]"
  },
  "language_info": {
   "codemirror_mode": {
    "name": "ipython",
    "version": 2
   },
   "file_extension": ".py",
   "mimetype": "text/x-python",
   "name": "python",
   "nbconvert_exporter": "python",
   "pygments_lexer": "ipython2",
   "version": "2.7.12"
  }
 },
 "nbformat": 4,
 "nbformat_minor": 0
}
