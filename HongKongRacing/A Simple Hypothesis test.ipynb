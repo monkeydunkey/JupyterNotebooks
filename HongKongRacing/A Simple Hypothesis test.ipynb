{
 "cells": [
  {
   "cell_type": "markdown",
   "metadata": {},
   "source": [
    "For this experiment we will first explore the data and look for possible correlation between various parameters and the average time a horse took around the track. By analysing this correlation we will then make a hypothesis for e.g. a certain breed of horse from a certain country performs way better than the other. Finally we will do a hypothesis test to check whether or not our hypothesis is correct or not.\n",
    "\n",
    "P.S.\n",
    "1. For the average time we will only consider only the first 3 sections as times for them will be present for all the runs. \n",
    "2. We will accept any hypothesis to be true only if there is a 5% chance of that event. \n",
    "3. We will be using a one-tailed test as we are only interested in observing whether the average time is significantly lower or not."
   ]
  },
  {
   "cell_type": "code",
   "execution_count": 39,
   "metadata": {
    "collapsed": true
   },
   "outputs": [],
   "source": [
    "import pandas as pd\n",
    "import numpy as np\n",
    "import seaborn as sns\n",
    "from matplotlib import pyplot as plt\n",
    "%matplotlib inline"
   ]
  },
  {
   "cell_type": "code",
   "execution_count": 40,
   "metadata": {
    "collapsed": false
   },
   "outputs": [
    {
     "data": {
      "text/html": [
       "<div>\n",
       "<table border=\"1\" class=\"dataframe\">\n",
       "  <thead>\n",
       "    <tr style=\"text-align: right;\">\n",
       "      <th></th>\n",
       "      <th>race_id</th>\n",
       "      <th>horse_no</th>\n",
       "      <th>horse_id</th>\n",
       "      <th>result</th>\n",
       "      <th>won</th>\n",
       "      <th>lengths_behind</th>\n",
       "      <th>horse_age</th>\n",
       "      <th>horse_country</th>\n",
       "      <th>horse_type</th>\n",
       "      <th>horse_rating</th>\n",
       "      <th>...</th>\n",
       "      <th>time2</th>\n",
       "      <th>time3</th>\n",
       "      <th>time4</th>\n",
       "      <th>time5</th>\n",
       "      <th>time6</th>\n",
       "      <th>finish_time</th>\n",
       "      <th>win_odds</th>\n",
       "      <th>place_odds</th>\n",
       "      <th>trainer_id</th>\n",
       "      <th>jockey_id</th>\n",
       "    </tr>\n",
       "  </thead>\n",
       "  <tbody>\n",
       "    <tr>\n",
       "      <th>0</th>\n",
       "      <td>0</td>\n",
       "      <td>1</td>\n",
       "      <td>3917</td>\n",
       "      <td>10</td>\n",
       "      <td>0.0</td>\n",
       "      <td>8.00</td>\n",
       "      <td>3</td>\n",
       "      <td>AUS</td>\n",
       "      <td>Gelding</td>\n",
       "      <td>60</td>\n",
       "      <td>...</td>\n",
       "      <td>21.59</td>\n",
       "      <td>23.86</td>\n",
       "      <td>24.62</td>\n",
       "      <td>NaN</td>\n",
       "      <td>NaN</td>\n",
       "      <td>83.92</td>\n",
       "      <td>9.7</td>\n",
       "      <td>3.7</td>\n",
       "      <td>118</td>\n",
       "      <td>2</td>\n",
       "    </tr>\n",
       "    <tr>\n",
       "      <th>1</th>\n",
       "      <td>0</td>\n",
       "      <td>2</td>\n",
       "      <td>2157</td>\n",
       "      <td>8</td>\n",
       "      <td>0.0</td>\n",
       "      <td>5.75</td>\n",
       "      <td>3</td>\n",
       "      <td>NZ</td>\n",
       "      <td>Gelding</td>\n",
       "      <td>60</td>\n",
       "      <td>...</td>\n",
       "      <td>21.99</td>\n",
       "      <td>23.30</td>\n",
       "      <td>23.70</td>\n",
       "      <td>NaN</td>\n",
       "      <td>NaN</td>\n",
       "      <td>83.56</td>\n",
       "      <td>16.0</td>\n",
       "      <td>4.9</td>\n",
       "      <td>164</td>\n",
       "      <td>57</td>\n",
       "    </tr>\n",
       "    <tr>\n",
       "      <th>2</th>\n",
       "      <td>0</td>\n",
       "      <td>3</td>\n",
       "      <td>858</td>\n",
       "      <td>7</td>\n",
       "      <td>0.0</td>\n",
       "      <td>4.75</td>\n",
       "      <td>3</td>\n",
       "      <td>NZ</td>\n",
       "      <td>Gelding</td>\n",
       "      <td>60</td>\n",
       "      <td>...</td>\n",
       "      <td>21.59</td>\n",
       "      <td>23.90</td>\n",
       "      <td>24.22</td>\n",
       "      <td>NaN</td>\n",
       "      <td>NaN</td>\n",
       "      <td>83.40</td>\n",
       "      <td>3.5</td>\n",
       "      <td>1.5</td>\n",
       "      <td>137</td>\n",
       "      <td>18</td>\n",
       "    </tr>\n",
       "    <tr>\n",
       "      <th>3</th>\n",
       "      <td>0</td>\n",
       "      <td>4</td>\n",
       "      <td>1853</td>\n",
       "      <td>9</td>\n",
       "      <td>0.0</td>\n",
       "      <td>6.25</td>\n",
       "      <td>3</td>\n",
       "      <td>SAF</td>\n",
       "      <td>Gelding</td>\n",
       "      <td>60</td>\n",
       "      <td>...</td>\n",
       "      <td>21.83</td>\n",
       "      <td>23.70</td>\n",
       "      <td>24.00</td>\n",
       "      <td>NaN</td>\n",
       "      <td>NaN</td>\n",
       "      <td>83.62</td>\n",
       "      <td>39.0</td>\n",
       "      <td>11.0</td>\n",
       "      <td>80</td>\n",
       "      <td>59</td>\n",
       "    </tr>\n",
       "    <tr>\n",
       "      <th>4</th>\n",
       "      <td>0</td>\n",
       "      <td>5</td>\n",
       "      <td>2796</td>\n",
       "      <td>6</td>\n",
       "      <td>0.0</td>\n",
       "      <td>3.75</td>\n",
       "      <td>3</td>\n",
       "      <td>GB</td>\n",
       "      <td>Gelding</td>\n",
       "      <td>60</td>\n",
       "      <td>...</td>\n",
       "      <td>21.75</td>\n",
       "      <td>23.22</td>\n",
       "      <td>23.50</td>\n",
       "      <td>NaN</td>\n",
       "      <td>NaN</td>\n",
       "      <td>83.24</td>\n",
       "      <td>50.0</td>\n",
       "      <td>14.0</td>\n",
       "      <td>9</td>\n",
       "      <td>154</td>\n",
       "    </tr>\n",
       "    <tr>\n",
       "      <th>5</th>\n",
       "      <td>0</td>\n",
       "      <td>6</td>\n",
       "      <td>3296</td>\n",
       "      <td>3</td>\n",
       "      <td>0.0</td>\n",
       "      <td>1.25</td>\n",
       "      <td>3</td>\n",
       "      <td>NZ</td>\n",
       "      <td>Gelding</td>\n",
       "      <td>60</td>\n",
       "      <td>...</td>\n",
       "      <td>22.03</td>\n",
       "      <td>22.90</td>\n",
       "      <td>23.57</td>\n",
       "      <td>NaN</td>\n",
       "      <td>NaN</td>\n",
       "      <td>82.83</td>\n",
       "      <td>7.0</td>\n",
       "      <td>1.8</td>\n",
       "      <td>54</td>\n",
       "      <td>34</td>\n",
       "    </tr>\n",
       "    <tr>\n",
       "      <th>6</th>\n",
       "      <td>0</td>\n",
       "      <td>7</td>\n",
       "      <td>911</td>\n",
       "      <td>12</td>\n",
       "      <td>0.0</td>\n",
       "      <td>9.50</td>\n",
       "      <td>3</td>\n",
       "      <td>NZ</td>\n",
       "      <td>Gelding</td>\n",
       "      <td>60</td>\n",
       "      <td>...</td>\n",
       "      <td>21.59</td>\n",
       "      <td>23.94</td>\n",
       "      <td>25.09</td>\n",
       "      <td>NaN</td>\n",
       "      <td>NaN</td>\n",
       "      <td>84.15</td>\n",
       "      <td>99.0</td>\n",
       "      <td>28.0</td>\n",
       "      <td>55</td>\n",
       "      <td>149</td>\n",
       "    </tr>\n",
       "    <tr>\n",
       "      <th>7</th>\n",
       "      <td>0</td>\n",
       "      <td>8</td>\n",
       "      <td>2170</td>\n",
       "      <td>1</td>\n",
       "      <td>1.0</td>\n",
       "      <td>0.00</td>\n",
       "      <td>3</td>\n",
       "      <td>AUS</td>\n",
       "      <td>Gelding</td>\n",
       "      <td>60</td>\n",
       "      <td>...</td>\n",
       "      <td>21.87</td>\n",
       "      <td>23.58</td>\n",
       "      <td>23.06</td>\n",
       "      <td>NaN</td>\n",
       "      <td>NaN</td>\n",
       "      <td>82.64</td>\n",
       "      <td>12.0</td>\n",
       "      <td>3.6</td>\n",
       "      <td>47</td>\n",
       "      <td>183</td>\n",
       "    </tr>\n",
       "    <tr>\n",
       "      <th>8</th>\n",
       "      <td>0</td>\n",
       "      <td>9</td>\n",
       "      <td>1730</td>\n",
       "      <td>13</td>\n",
       "      <td>0.0</td>\n",
       "      <td>9.75</td>\n",
       "      <td>3</td>\n",
       "      <td>NZ</td>\n",
       "      <td>Gelding</td>\n",
       "      <td>60</td>\n",
       "      <td>...</td>\n",
       "      <td>21.71</td>\n",
       "      <td>23.90</td>\n",
       "      <td>24.94</td>\n",
       "      <td>NaN</td>\n",
       "      <td>NaN</td>\n",
       "      <td>84.20</td>\n",
       "      <td>38.0</td>\n",
       "      <td>13.0</td>\n",
       "      <td>75</td>\n",
       "      <td>131</td>\n",
       "    </tr>\n",
       "    <tr>\n",
       "      <th>9</th>\n",
       "      <td>0</td>\n",
       "      <td>10</td>\n",
       "      <td>2998</td>\n",
       "      <td>14</td>\n",
       "      <td>0.0</td>\n",
       "      <td>999.00</td>\n",
       "      <td>3</td>\n",
       "      <td>AUS</td>\n",
       "      <td>Mare</td>\n",
       "      <td>60</td>\n",
       "      <td>...</td>\n",
       "      <td>22.31</td>\n",
       "      <td>24.38</td>\n",
       "      <td>30.46</td>\n",
       "      <td>NaN</td>\n",
       "      <td>NaN</td>\n",
       "      <td>92.20</td>\n",
       "      <td>39.0</td>\n",
       "      <td>12.0</td>\n",
       "      <td>109</td>\n",
       "      <td>145</td>\n",
       "    </tr>\n",
       "  </tbody>\n",
       "</table>\n",
       "<p>10 rows × 37 columns</p>\n",
       "</div>"
      ],
      "text/plain": [
       "   race_id  horse_no  horse_id  result  won  lengths_behind  horse_age  \\\n",
       "0        0         1      3917      10  0.0            8.00          3   \n",
       "1        0         2      2157       8  0.0            5.75          3   \n",
       "2        0         3       858       7  0.0            4.75          3   \n",
       "3        0         4      1853       9  0.0            6.25          3   \n",
       "4        0         5      2796       6  0.0            3.75          3   \n",
       "5        0         6      3296       3  0.0            1.25          3   \n",
       "6        0         7       911      12  0.0            9.50          3   \n",
       "7        0         8      2170       1  1.0            0.00          3   \n",
       "8        0         9      1730      13  0.0            9.75          3   \n",
       "9        0        10      2998      14  0.0          999.00          3   \n",
       "\n",
       "  horse_country horse_type  horse_rating    ...      time2  time3  time4  \\\n",
       "0           AUS    Gelding            60    ...      21.59  23.86  24.62   \n",
       "1            NZ    Gelding            60    ...      21.99  23.30  23.70   \n",
       "2            NZ    Gelding            60    ...      21.59  23.90  24.22   \n",
       "3           SAF    Gelding            60    ...      21.83  23.70  24.00   \n",
       "4            GB    Gelding            60    ...      21.75  23.22  23.50   \n",
       "5            NZ    Gelding            60    ...      22.03  22.90  23.57   \n",
       "6            NZ    Gelding            60    ...      21.59  23.94  25.09   \n",
       "7           AUS    Gelding            60    ...      21.87  23.58  23.06   \n",
       "8            NZ    Gelding            60    ...      21.71  23.90  24.94   \n",
       "9           AUS       Mare            60    ...      22.31  24.38  30.46   \n",
       "\n",
       "   time5  time6  finish_time  win_odds  place_odds  trainer_id  jockey_id  \n",
       "0    NaN    NaN        83.92       9.7         3.7         118          2  \n",
       "1    NaN    NaN        83.56      16.0         4.9         164         57  \n",
       "2    NaN    NaN        83.40       3.5         1.5         137         18  \n",
       "3    NaN    NaN        83.62      39.0        11.0          80         59  \n",
       "4    NaN    NaN        83.24      50.0        14.0           9        154  \n",
       "5    NaN    NaN        82.83       7.0         1.8          54         34  \n",
       "6    NaN    NaN        84.15      99.0        28.0          55        149  \n",
       "7    NaN    NaN        82.64      12.0         3.6          47        183  \n",
       "8    NaN    NaN        84.20      38.0        13.0          75        131  \n",
       "9    NaN    NaN        92.20      39.0        12.0         109        145  \n",
       "\n",
       "[10 rows x 37 columns]"
      ]
     },
     "execution_count": 40,
     "metadata": {},
     "output_type": "execute_result"
    }
   ],
   "source": [
    "runs = pd.read_csv(\"runs.csv\")\n",
    "runs.head(10)"
   ]
  },
  {
   "cell_type": "markdown",
   "metadata": {},
   "source": [
    "Age might be an important factor in a horse's speed. So, Lets calculate average run times and number of horses in each age category and then choose an age for our experiment as age can be a lurking variable"
   ]
  },
  {
   "cell_type": "code",
   "execution_count": 41,
   "metadata": {
    "collapsed": false
   },
   "outputs": [
    {
     "data": {
      "text/plain": [
       "<matplotlib.axes._subplots.AxesSubplot at 0x1118bd310>"
      ]
     },
     "execution_count": 41,
     "metadata": {},
     "output_type": "execute_result"
    },
    {
     "data": {
      "image/png": "[encoded data removed]",
      "text/plain": [
       "<matplotlib.figure.Figure at 0x11156a390>"
      ]
     },
     "metadata": {},
     "output_type": "display_data"
    }
   ],
   "source": [
    "grp_age = runs[['horse_age', 'time1', 'time2', 'time3']].groupby('horse_age').mean()\n",
    "grp_age['mean_time'] = (grp_age['time1'] + grp_age['time2'] + grp_age['time3'])/3\n",
    "grp_age[['mean_time']].plot.bar()"
   ]
  },
  {
   "cell_type": "code",
   "execution_count": 42,
   "metadata": {
    "collapsed": false
   },
   "outputs": [
    {
     "data": {
      "text/plain": [
       "<matplotlib.axes._subplots.AxesSubplot at 0x111999650>"
      ]
     },
     "execution_count": 42,
     "metadata": {},
     "output_type": "execute_result"
    },
    {
     "data": {
      "image/png": "[encoded data removed]",
      "text/plain": [
       "<matplotlib.figure.Figure at 0x11732e450>"
      ]
     },
     "metadata": {},
     "output_type": "display_data"
    }
   ],
   "source": [
    "uni_horse_age = runs[['horse_age', 'horse_id']].groupby('horse_age').horse_id.nunique()\n",
    "uni_horse_age.plot.bar()"
   ]
  },
  {
   "cell_type": "markdown",
   "metadata": {},
   "source": [
    "Choosing horses of age 3 will be better because it will allow for more possibe combinations and also allows us to take larger sample size for the hypothesis."
   ]
  },
  {
   "cell_type": "code",
   "execution_count": 44,
   "metadata": {
    "collapsed": false
   },
   "outputs": [],
   "source": [
    "runs = runs[runs.horse_age == 3][['horse_country', 'horse_type', 'horse_gear', 'declared_weight', 'actual_weight',\\\n",
    "                                  'time1', 'time2', 'time3', 'horse_age']]"
   ]
  },
  {
   "cell_type": "code",
   "execution_count": 45,
   "metadata": {
    "collapsed": false
   },
   "outputs": [
    {
     "data": {
      "text/plain": [
       "<matplotlib.axes._subplots.AxesSubplot at 0x117357bd0>"
      ]
     },
     "execution_count": 45,
     "metadata": {},
     "output_type": "execute_result"
    },
    {
     "data": {
      "image/png": "[encoded data removed]",
      "text/plain": [
       "<matplotlib.figure.Figure at 0x111e221d0>"
      ]
     },
     "metadata": {},
     "output_type": "display_data"
    }
   ],
   "source": [
    "runs['mean_time'] = (runs['time1'] + runs['time2'] + runs['time3']) / 3\n",
    "sns.heatmap(runs[['mean_time', 'declared_weight', 'actual_weight']].corr())"
   ]
  },
  {
   "cell_type": "code",
   "execution_count": 46,
   "metadata": {
    "collapsed": false
   },
   "outputs": [
    {
     "data": {
      "text/html": [
       "<div>\n",
       "<table border=\"1\" class=\"dataframe\">\n",
       "  <thead>\n",
       "    <tr style=\"text-align: right;\">\n",
       "      <th></th>\n",
       "      <th>mean_time</th>\n",
       "      <th>declared_weight</th>\n",
       "      <th>actual_weight</th>\n",
       "    </tr>\n",
       "  </thead>\n",
       "  <tbody>\n",
       "    <tr>\n",
       "      <th>mean_time</th>\n",
       "      <td>1.000000</td>\n",
       "      <td>-0.036746</td>\n",
       "      <td>0.003908</td>\n",
       "    </tr>\n",
       "    <tr>\n",
       "      <th>declared_weight</th>\n",
       "      <td>-0.036746</td>\n",
       "      <td>1.000000</td>\n",
       "      <td>0.049013</td>\n",
       "    </tr>\n",
       "    <tr>\n",
       "      <th>actual_weight</th>\n",
       "      <td>0.003908</td>\n",
       "      <td>0.049013</td>\n",
       "      <td>1.000000</td>\n",
       "    </tr>\n",
       "  </tbody>\n",
       "</table>\n",
       "</div>"
      ],
      "text/plain": [
       "                 mean_time  declared_weight  actual_weight\n",
       "mean_time         1.000000        -0.036746       0.003908\n",
       "declared_weight  -0.036746         1.000000       0.049013\n",
       "actual_weight     0.003908         0.049013       1.000000"
      ]
     },
     "execution_count": 46,
     "metadata": {},
     "output_type": "execute_result"
    }
   ],
   "source": [
    "runs[['mean_time', 'declared_weight', 'actual_weight']].corr()"
   ]
  },
  {
   "cell_type": "markdown",
   "metadata": {},
   "source": [
    "An interesting thing to observe here is that the declared_weight and mean_time are negatively correlated, this would mean that as the declared weight goes up there a good chance that average time would go down.\n",
    "\n",
    "Anyway the correlations are not strong enough that they can be used to suggest anything."
   ]
  },
  {
   "cell_type": "code",
   "execution_count": 117,
   "metadata": {
    "collapsed": false
   },
   "outputs": [
    {
     "data": {
      "text/plain": [
       "<matplotlib.axes._subplots.AxesSubplot at 0x11d12fa10>"
      ]
     },
     "execution_count": 117,
     "metadata": {},
     "output_type": "execute_result"
    },
    {
     "data": {
      "image/png": "[encoded data removed]",
      "text/plain": [
       "<matplotlib.figure.Figure at 0x1223fda50>"
      ]
     },
     "metadata": {},
     "output_type": "display_data"
    }
   ],
   "source": [
    "# horse_country', 'horse_type', 'horse_gear'\n",
    "grp_country = runs[['horse_country','horse_type', 'mean_time']].dropna().groupby(['horse_country','horse_type']).mean()\n",
    "grp_country[['mean_time']].sort_values('mean_time').head(15).plot.bar()"
   ]
  },
  {
   "cell_type": "code",
   "execution_count": 120,
   "metadata": {
    "collapsed": false
   },
   "outputs": [
    {
     "data": {
      "text/html": [
       "<div>\n",
       "<table border=\"1\" class=\"dataframe\">\n",
       "  <thead>\n",
       "    <tr style=\"text-align: right;\">\n",
       "      <th></th>\n",
       "      <th>horse_country</th>\n",
       "      <th>horse_type</th>\n",
       "      <th>horse_gear</th>\n",
       "      <th>declared_weight</th>\n",
       "      <th>actual_weight</th>\n",
       "      <th>time1</th>\n",
       "      <th>time2</th>\n",
       "      <th>time3</th>\n",
       "      <th>horse_age</th>\n",
       "      <th>mean_time</th>\n",
       "    </tr>\n",
       "  </thead>\n",
       "  <tbody>\n",
       "    <tr>\n",
       "      <th>12249</th>\n",
       "      <td>SAF</td>\n",
       "      <td>Mare</td>\n",
       "      <td>--</td>\n",
       "      <td>1155.0</td>\n",
       "      <td>128</td>\n",
       "      <td>13.23</td>\n",
       "      <td>21.16</td>\n",
       "      <td>22.90</td>\n",
       "      <td>3</td>\n",
       "      <td>19.096667</td>\n",
       "    </tr>\n",
       "    <tr>\n",
       "      <th>13074</th>\n",
       "      <td>SAF</td>\n",
       "      <td>Mare</td>\n",
       "      <td>--</td>\n",
       "      <td>1129.0</td>\n",
       "      <td>132</td>\n",
       "      <td>13.39</td>\n",
       "      <td>20.59</td>\n",
       "      <td>22.77</td>\n",
       "      <td>3</td>\n",
       "      <td>18.916667</td>\n",
       "    </tr>\n",
       "    <tr>\n",
       "      <th>13908</th>\n",
       "      <td>SAF</td>\n",
       "      <td>Mare</td>\n",
       "      <td>--</td>\n",
       "      <td>1118.0</td>\n",
       "      <td>114</td>\n",
       "      <td>12.59</td>\n",
       "      <td>21.47</td>\n",
       "      <td>22.24</td>\n",
       "      <td>3</td>\n",
       "      <td>18.766667</td>\n",
       "    </tr>\n",
       "    <tr>\n",
       "      <th>14815</th>\n",
       "      <td>SAF</td>\n",
       "      <td>Mare</td>\n",
       "      <td>--</td>\n",
       "      <td>1123.0</td>\n",
       "      <td>129</td>\n",
       "      <td>23.59</td>\n",
       "      <td>22.41</td>\n",
       "      <td>23.85</td>\n",
       "      <td>3</td>\n",
       "      <td>23.283333</td>\n",
       "    </tr>\n",
       "    <tr>\n",
       "      <th>15465</th>\n",
       "      <td>SAF</td>\n",
       "      <td>Mare</td>\n",
       "      <td>--</td>\n",
       "      <td>1120.0</td>\n",
       "      <td>115</td>\n",
       "      <td>13.36</td>\n",
       "      <td>20.91</td>\n",
       "      <td>21.89</td>\n",
       "      <td>3</td>\n",
       "      <td>18.720000</td>\n",
       "    </tr>\n",
       "    <tr>\n",
       "      <th>16752</th>\n",
       "      <td>SAF</td>\n",
       "      <td>Mare</td>\n",
       "      <td>--</td>\n",
       "      <td>1137.0</td>\n",
       "      <td>120</td>\n",
       "      <td>23.98</td>\n",
       "      <td>22.31</td>\n",
       "      <td>23.02</td>\n",
       "      <td>3</td>\n",
       "      <td>23.103333</td>\n",
       "    </tr>\n",
       "    <tr>\n",
       "      <th>19325</th>\n",
       "      <td>SAF</td>\n",
       "      <td>Mare</td>\n",
       "      <td>--</td>\n",
       "      <td>1153.0</td>\n",
       "      <td>115</td>\n",
       "      <td>13.30</td>\n",
       "      <td>20.45</td>\n",
       "      <td>22.40</td>\n",
       "      <td>3</td>\n",
       "      <td>18.716667</td>\n",
       "    </tr>\n",
       "    <tr>\n",
       "      <th>20001</th>\n",
       "      <td>SAF</td>\n",
       "      <td>Mare</td>\n",
       "      <td>--</td>\n",
       "      <td>1147.0</td>\n",
       "      <td>123</td>\n",
       "      <td>24.32</td>\n",
       "      <td>22.30</td>\n",
       "      <td>22.36</td>\n",
       "      <td>3</td>\n",
       "      <td>22.993333</td>\n",
       "    </tr>\n",
       "    <tr>\n",
       "      <th>20830</th>\n",
       "      <td>SAF</td>\n",
       "      <td>Mare</td>\n",
       "      <td>--</td>\n",
       "      <td>1148.0</td>\n",
       "      <td>119</td>\n",
       "      <td>23.57</td>\n",
       "      <td>22.62</td>\n",
       "      <td>23.69</td>\n",
       "      <td>3</td>\n",
       "      <td>23.293333</td>\n",
       "    </tr>\n",
       "    <tr>\n",
       "      <th>21858</th>\n",
       "      <td>SAF</td>\n",
       "      <td>Mare</td>\n",
       "      <td>--</td>\n",
       "      <td>1153.0</td>\n",
       "      <td>130</td>\n",
       "      <td>24.07</td>\n",
       "      <td>22.61</td>\n",
       "      <td>23.70</td>\n",
       "      <td>3</td>\n",
       "      <td>23.460000</td>\n",
       "    </tr>\n",
       "    <tr>\n",
       "      <th>22557</th>\n",
       "      <td>SAF</td>\n",
       "      <td>Mare</td>\n",
       "      <td>--</td>\n",
       "      <td>1159.0</td>\n",
       "      <td>122</td>\n",
       "      <td>13.51</td>\n",
       "      <td>20.91</td>\n",
       "      <td>22.29</td>\n",
       "      <td>3</td>\n",
       "      <td>18.903333</td>\n",
       "    </tr>\n",
       "    <tr>\n",
       "      <th>23164</th>\n",
       "      <td>SAF</td>\n",
       "      <td>Mare</td>\n",
       "      <td>--</td>\n",
       "      <td>1161.0</td>\n",
       "      <td>122</td>\n",
       "      <td>24.14</td>\n",
       "      <td>22.25</td>\n",
       "      <td>23.27</td>\n",
       "      <td>3</td>\n",
       "      <td>23.220000</td>\n",
       "    </tr>\n",
       "    <tr>\n",
       "      <th>25165</th>\n",
       "      <td>SAF</td>\n",
       "      <td>Mare</td>\n",
       "      <td>--</td>\n",
       "      <td>1154.0</td>\n",
       "      <td>116</td>\n",
       "      <td>13.36</td>\n",
       "      <td>20.87</td>\n",
       "      <td>21.69</td>\n",
       "      <td>3</td>\n",
       "      <td>18.640000</td>\n",
       "    </tr>\n",
       "    <tr>\n",
       "      <th>25757</th>\n",
       "      <td>SAF</td>\n",
       "      <td>Mare</td>\n",
       "      <td>--</td>\n",
       "      <td>1037.0</td>\n",
       "      <td>122</td>\n",
       "      <td>26.52</td>\n",
       "      <td>25.40</td>\n",
       "      <td>25.52</td>\n",
       "      <td>3</td>\n",
       "      <td>25.813333</td>\n",
       "    </tr>\n",
       "    <tr>\n",
       "      <th>28735</th>\n",
       "      <td>SAF</td>\n",
       "      <td>Mare</td>\n",
       "      <td>--</td>\n",
       "      <td>1143.0</td>\n",
       "      <td>123</td>\n",
       "      <td>13.35</td>\n",
       "      <td>20.67</td>\n",
       "      <td>23.71</td>\n",
       "      <td>3</td>\n",
       "      <td>19.243333</td>\n",
       "    </tr>\n",
       "  </tbody>\n",
       "</table>\n",
       "</div>"
      ],
      "text/plain": [
       "      horse_country horse_type horse_gear  declared_weight  actual_weight  \\\n",
       "12249           SAF       Mare         --           1155.0            128   \n",
       "13074           SAF       Mare         --           1129.0            132   \n",
       "13908           SAF       Mare         --           1118.0            114   \n",
       "14815           SAF       Mare         --           1123.0            129   \n",
       "15465           SAF       Mare         --           1120.0            115   \n",
       "16752           SAF       Mare         --           1137.0            120   \n",
       "19325           SAF       Mare         --           1153.0            115   \n",
       "20001           SAF       Mare         --           1147.0            123   \n",
       "20830           SAF       Mare         --           1148.0            119   \n",
       "21858           SAF       Mare         --           1153.0            130   \n",
       "22557           SAF       Mare         --           1159.0            122   \n",
       "23164           SAF       Mare         --           1161.0            122   \n",
       "25165           SAF       Mare         --           1154.0            116   \n",
       "25757           SAF       Mare         --           1037.0            122   \n",
       "28735           SAF       Mare         --           1143.0            123   \n",
       "\n",
       "       time1  time2  time3  horse_age  mean_time  \n",
       "12249  13.23  21.16  22.90          3  19.096667  \n",
       "13074  13.39  20.59  22.77          3  18.916667  \n",
       "13908  12.59  21.47  22.24          3  18.766667  \n",
       "14815  23.59  22.41  23.85          3  23.283333  \n",
       "15465  13.36  20.91  21.89          3  18.720000  \n",
       "16752  23.98  22.31  23.02          3  23.103333  \n",
       "19325  13.30  20.45  22.40          3  18.716667  \n",
       "20001  24.32  22.30  22.36          3  22.993333  \n",
       "20830  23.57  22.62  23.69          3  23.293333  \n",
       "21858  24.07  22.61  23.70          3  23.460000  \n",
       "22557  13.51  20.91  22.29          3  18.903333  \n",
       "23164  24.14  22.25  23.27          3  23.220000  \n",
       "25165  13.36  20.87  21.69          3  18.640000  \n",
       "25757  26.52  25.40  25.52          3  25.813333  \n",
       "28735  13.35  20.67  23.71          3  19.243333  "
      ]
     },
     "execution_count": 120,
     "metadata": {},
     "output_type": "execute_result"
    }
   ],
   "source": [
    "# Lets see how many observation points we have\n",
    "runs[(runs.horse_country == 'SAF') & (runs.horse_type == 'Mare')]"
   ]
  },
  {
   "cell_type": "markdown",
   "metadata": {},
   "source": [
    "## Hypothesis: If all the horses are of type 'Mare' from 'SAF' then the average time around track will decrease"
   ]
  },
  {
   "cell_type": "code",
   "execution_count": 124,
   "metadata": {
    "collapsed": false
   },
   "outputs": [
    {
     "data": {
      "text/plain": [
       "count    61212.000000\n",
       "mean        22.634066\n",
       "std          3.749730\n",
       "min         18.386667\n",
       "25%         20.110000\n",
       "50%         23.450000\n",
       "75%         24.236667\n",
       "max        673.906667\n",
       "Name: mean_time, dtype: float64"
      ]
     },
     "execution_count": 124,
     "metadata": {},
     "output_type": "execute_result"
    }
   ],
   "source": [
    "runs.mean_time.describe()"
   ]
  },
  {
   "cell_type": "code",
   "execution_count": 125,
   "metadata": {
    "collapsed": false
   },
   "outputs": [
    {
     "data": {
      "text/plain": [
       "3.7497301564083223"
      ]
     },
     "execution_count": 125,
     "metadata": {},
     "output_type": "execute_result"
    }
   ],
   "source": [
    "runs.mean_time.std()"
   ]
  },
  {
   "cell_type": "code",
   "execution_count": 126,
   "metadata": {
    "collapsed": false
   },
   "outputs": [
    {
     "data": {
      "text/plain": [
       "count    15.000000\n",
       "mean     21.078000\n",
       "std       2.526171\n",
       "min      18.640000\n",
       "25%      18.835000\n",
       "50%      19.243333\n",
       "75%      23.251667\n",
       "max      25.813333\n",
       "Name: mean_time, dtype: float64"
      ]
     },
     "execution_count": 126,
     "metadata": {},
     "output_type": "execute_result"
    }
   ],
   "source": [
    "runs[(runs.horse_country == 'SAF') & (runs.horse_type == 'Mare')].mean_time.describe()"
   ]
  },
  {
   "cell_type": "markdown",
   "metadata": {},
   "source": [
    "The population parameters are \n",
    "\n",
    " - AVG : 22.634  \n",
    " - SD: 3.745\n",
    "\n",
    "The sample values are\n",
    "\n",
    " - Sample Size : 15\n",
    " - Sample mean : 21.078\n",
    " - Standard Error : 0.967\n",
    " - Z-value : -1.61 (approx)\n",
    " - p-value : 0.0537"
   ]
  },
  {
   "cell_type": "markdown",
   "metadata": {},
   "source": [
    "Even though the hypothesis failed, we did end up pretty close to it (missed it by .37%). So we can still say there is a good chance that betting on a Mare from South Africa (I assume SAF is South Africa) will lead to good returns"
   ]
  },
  {
   "cell_type": "code",
   "execution_count": null,
   "metadata": {
    "collapsed": true
   },
   "outputs": [],
   "source": []
  }
 ],
 "metadata": {
  "anaconda-cloud": {},
  "kernelspec": {
   "display_name": "Python [Root]",
   "language": "python",
   "name": "Python [Root]"
  },
  "language_info": {
   "codemirror_mode": {
    "name": "ipython",
    "version": 2
   },
   "file_extension": ".py",
   "mimetype": "text/x-python",
   "name": "python",
   "nbconvert_exporter": "python",
   "pygments_lexer": "ipython2",
   "version": "2.7.12"
  }
 },
 "nbformat": 4,
 "nbformat_minor": 0
}
