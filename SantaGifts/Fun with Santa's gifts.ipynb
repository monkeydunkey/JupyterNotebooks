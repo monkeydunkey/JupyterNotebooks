{
 "cells": [
  {
   "cell_type": "markdown",
   "metadata": {},
   "source": [
    "To help Santa, I feel it would be good approach to first get a good estimate of the weight of each type of gift and once we have the estimate the problem kind of turns itself into kind of [Bin packing problem](https://en.wikipedia.org/wiki/Bin_packing_problem)\n",
    "\n",
    "As all the data is based on certain types of distribution, we can easily find the value points which correspond to certain cummulative probability. For this example I am taking 85% as the cummulative probability. \n",
    "\n",
    "One thing to note would that the weights of books follow Chi-Square distribution and so its PDF depends upon the degrees of freedom, which in this case would 1199,which is huge and most online calculaor dont calculate value for it, so for books we are gonna draw 10000 samples to get a good estimate of the 85% percent cummulative value."
   ]
  },
  {
   "cell_type": "code",
   "execution_count": 160,
   "metadata": {
    "collapsed": true
   },
   "outputs": [],
   "source": [
    "import pandas as pd\n",
    "import numpy as np\n",
    "from matplotlib import pyplot as plt\n",
    "\n",
    "%matplotlib inline"
   ]
  },
  {
   "cell_type": "markdown",
   "metadata": {},
   "source": [
    "Number of gifts of each type\n",
    " - horse - 1000\n",
    " - ball - 1100\n",
    " - bike - 500\n",
    " - train - 1000\n",
    " - coal - 166\n",
    " - book - 1200\n",
    " - doll - 1000\n",
    " - blocks - 1000"
   ]
  },
  {
   "cell_type": "code",
   "execution_count": 185,
   "metadata": {
    "collapsed": false
   },
   "outputs": [],
   "source": [
    "samples = 100000\n",
    "z_critical = 1.036433 ## For 85% cummulative probability\n",
    "\n",
    "horse_est_weight = 5 + z_critical*(2)\n",
    "ball_est_weight = 1 + z_critical*(0.3)\n",
    "bike_est_weight = 20 + z_critical*(10)\n",
    "train_est_weight = 10 + z_critical*(5)\n",
    "coal_est_weight = 47*0.9455  ## Source: http://keisan.casio.com/exec/system/1180573227\n",
    "doll_est_weight = 7.267 ## Source: http://keisan.casio.com/exec/system/1180573218\n",
    "block_est_weight = 15.834 ## Source: http://www.math.uah.edu/stat/apps/SpecialCalculator.html\n",
    "gloves_est_weight = 3 + 0.85\n",
    "weights = [{'name':'horse', 'weight':horse_est_weight, 'quantity':1000}\n",
    "          ,{'name':'ball', 'weight':ball_est_weight, 'quantity':1100}\n",
    "          ,{'name':'bike', 'weight':bike_est_weight, 'quantity':500}\n",
    "          ,{'name':'train', 'weight':train_est_weight, 'quantity':1000}\n",
    "          ,{'name':'coal', 'weight':coal_est_weight, 'quantity':166}\n",
    "          ,{'name':'doll', 'weight':doll_est_weight, 'quantity':1000}\n",
    "          ,{'name':'blocks', 'weight':block_est_weight, 'quantity':1000}\n",
    "          ,{'name':'gloves', 'weight':gloves_est_weight, 'quantity':200}]\n",
    "\n",
    "'''from https://www.kaggle.com/wcukierski/santas-uncertain-bags/plotting-example-gift-weights '''\n",
    "class book:\n",
    "    def __init__(self, id):\n",
    "        self.weight = np.random.chisquare(2,1)[0]\n",
    "        self.name = 'book'\n",
    "\n",
    "books = np.histogram([book(x).weight for x in range(samples)], bins = 100)"
   ]
  },
  {
   "cell_type": "markdown",
   "metadata": {},
   "source": [
    "Now that we have the histogram, lets convert the freqencies of the bin into cummulative relative frequencies."
   ]
  },
  {
   "cell_type": "code",
   "execution_count": 186,
   "metadata": {
    "collapsed": false
   },
   "outputs": [],
   "source": [
    "def calc_rela_freq_cummulative(hist):\n",
    "    cummulative = 0\n",
    "    rel_freq = []\n",
    "    for val in hist[0]:\n",
    "        freq = cummulative + float(val)/float(samples)\n",
    "        cummulative = freq\n",
    "        rel_freq.append(freq)\n",
    "    return np.asarray(rel_freq)\n",
    "\n",
    "books = (calc_rela_freq_cummulative(books), books[1])"
   ]
  },
  {
   "cell_type": "code",
   "execution_count": 187,
   "metadata": {
    "collapsed": false
   },
   "outputs": [
    {
     "name": "stdout",
     "output_type": "stream",
     "text": [
      "For books the value in the 85 percentile is 6.013810486\n"
     ]
    }
   ],
   "source": [
    "def get_85_percentile(rel_hist):\n",
    "    for i, x in enumerate(rel_hist[0]):\n",
    "        if x > 0.845 and x < 0.855:\n",
    "            return [i, i+1]\n",
    "    print 'No Element found in that range'\n",
    "    return [0, 0]\n",
    "rel_arr = [books]\n",
    "rel_arr_names = ['books']\n",
    "book_est_weight = 0\n",
    "for i, x in enumerate(rel_arr):\n",
    "    book_est_weight = x[1][get_85_percentile(x)[1]]\n",
    "    print 'For', rel_arr_names[i], 'the value in the 85 percentile is', book_est_weight"
   ]
  },
  {
   "cell_type": "code",
   "execution_count": 188,
   "metadata": {
    "collapsed": false
   },
   "outputs": [],
   "source": [
    "weights.append({'name':'book', 'weight':book_est_weight, 'quantity': 1200})"
   ]
  },
  {
   "cell_type": "code",
   "execution_count": 189,
   "metadata": {
    "collapsed": false
   },
   "outputs": [
    {
     "data": {
      "text/plain": [
       "[{'name': 'horse', 'quantity': 1000, 'weight': 8.289705999999999},\n",
       " {'name': 'ball', 'quantity': 1100, 'weight': 1.4934558999999998},\n",
       " {'name': 'bike', 'quantity': 500, 'weight': 36.44853},\n",
       " {'name': 'train', 'quantity': 1000, 'weight': 18.224265},\n",
       " {'name': 'doll', 'quantity': 1000, 'weight': 9.15},\n",
       " {'name': 'blocks', 'quantity': 1000, 'weight': 22.561},\n",
       " {'name': 'gloves', 'quantity': 200, 'weight': 3.95},\n",
       " {'name': 'book', 'quantity': 1200, 'weight': 6.0138104859986976}]"
      ]
     },
     "execution_count": 189,
     "metadata": {},
     "output_type": "execute_result"
    }
   ],
   "source": [
    "weights"
   ]
  },
  {
   "cell_type": "markdown",
   "metadata": {},
   "source": [
    "Now that we have a weight estimate for each of the gift, we can try and solve it in a way similar to bin packing problem."
   ]
  },
  {
   "cell_type": "code",
   "execution_count": 190,
   "metadata": {
    "collapsed": false
   },
   "outputs": [],
   "source": [
    "Weight_per_bag = 50\n",
    "id_gifts = [0,0,0,0,0,0,0,0,0]\n",
    "weights = sorted(weights, key=lambda obj: obj['weight'], reverse = True)\n",
    "bags = 1000\n",
    "bags_contain = []\n",
    "total_weight = 0\n",
    "for i in range(bags):\n",
    "    weight_to_fill = Weight_per_bag\n",
    "    bag_str = ''\n",
    "    while weight_to_fill > 0:\n",
    "        if(weight_to_fill < weights[8]['weight']):\n",
    "            break;\n",
    "        for j, gift in enumerate(weights):\n",
    "            if (gift['quantity'] >= 1) and (weight_to_fill - gift['weight'] >= 0):\n",
    "                bag_str += ' ' + gift['name'] + '_' + str(id_gifts[j]);\n",
    "                total_weight += gift['weight']\n",
    "                weight_to_fill = weight_to_fill - gift['weight'];\n",
    "                id_gifts[j] += 1;\n",
    "                gift['quantity'] -= 1;\n",
    "    bags_contain.append(bag_str.strip())\n"
   ]
  },
  {
   "cell_type": "code",
   "execution_count": 193,
   "metadata": {
    "collapsed": false
   },
   "outputs": [],
   "source": [
    "with open(\"Santa_gifts.csv\", 'w') as f:\n",
    "        f.write(\"Gifts\\n\")\n",
    "        for i in bags_contain:\n",
    "            f.write( i +'\\n')"
   ]
  },
  {
   "cell_type": "code",
   "execution_count": 192,
   "metadata": {
    "collapsed": false
   },
   "outputs": [
    {
     "data": {
      "text/plain": [
       "49452.9710400006"
      ]
     },
     "execution_count": 192,
     "metadata": {},
     "output_type": "execute_result"
    }
   ],
   "source": [
    "total_weight"
   ]
  },
  {
   "cell_type": "code",
   "execution_count": 195,
   "metadata": {
    "collapsed": false
   },
   "outputs": [
    {
     "data": {
      "text/plain": [
       "[{'name': 'bike', 'quantity': 0, 'weight': 36.44853},\n",
       " {'name': 'blocks', 'quantity': 500, 'weight': 22.561},\n",
       " {'name': 'train', 'quantity': 500, 'weight': 18.224265},\n",
       " {'name': 'doll', 'quantity': 0, 'weight': 9.15},\n",
       " {'name': 'horse', 'quantity': 1000, 'weight': 8.289705999999999},\n",
       " {'name': 'book', 'quantity': 1200, 'weight': 6.0138104859986976},\n",
       " {'name': 'gloves', 'quantity': 0, 'weight': 3.95},\n",
       " {'name': 'ball', 'quantity': 500, 'weight': 1.4934558999999998}]"
      ]
     },
     "execution_count": 195,
     "metadata": {},
     "output_type": "execute_result"
    }
   ],
   "source": [
    "weights"
   ]
  },
  {
   "cell_type": "code",
   "execution_count": null,
   "metadata": {
    "collapsed": true
   },
   "outputs": [],
   "source": []
  }
 ],
 "metadata": {
  "anaconda-cloud": {},
  "kernelspec": {
   "display_name": "Python [Root]",
   "language": "python",
   "name": "Python [Root]"
  },
  "language_info": {
   "codemirror_mode": {
    "name": "ipython",
    "version": 2
   },
   "file_extension": ".py",
   "mimetype": "text/x-python",
   "name": "python",
   "nbconvert_exporter": "python",
   "pygments_lexer": "ipython2",
   "version": "2.7.12"
  }
 },
 "nbformat": 4,
 "nbformat_minor": 0
}
