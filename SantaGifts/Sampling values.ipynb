{
 "cells": [
  {
   "cell_type": "code",
   "execution_count": 1,
   "metadata": {
    "collapsed": true
   },
   "outputs": [],
   "source": [
    "import pandas as pd\n",
    "import numpy as np\n",
    "from matplotlib import pyplot as plt\n",
    "\n",
    "%matplotlib inline"
   ]
  },
  {
   "cell_type": "code",
   "execution_count": 2,
   "metadata": {
    "collapsed": true
   },
   "outputs": [],
   "source": [
    "data = pd.read_csv('gifts.csv')"
   ]
  },
  {
   "cell_type": "code",
   "execution_count": 3,
   "metadata": {
    "collapsed": true
   },
   "outputs": [],
   "source": [
    "samples = 10000\n",
    "z_critical = 1.036433 ## For 85% cummulative probability\n",
    "\n",
    "\n",
    "horse_est_weight = 5 + z_critical*(2)\n",
    "ball_est_weight = 1 + z_critical*(0.3)\n",
    "bike_est_weight = 20 + z_critical*(10)\n",
    "train_est_weight = 10 + z_critical*(5)\n",
    "coal_est_weight = 47*0.9455  ## Source: http://keisan.casio.com/exec/system/1180573227\n",
    "doll_est_weight = 7.267 ## Source: http://keisan.casio.com/exec/system/1180573218\n",
    "block_est_weight = 15.834 ## Source: http://www.math.uah.edu/stat/apps/SpecialCalculator.html\n",
    "gloves_est_weight = 3 + 0.85\n",
    "'''from https://www.kaggle.com/wcukierski/santas-uncertain-bags/plotting-example-gift-weights '''\n",
    "class horse:\n",
    "    def __init__(self, id):\n",
    "        self.weight = max(0, np.random.normal(5,2,1)[0])\n",
    "        self.cut_off = 5 + z_critical*(2)\n",
    "        self.name = 'horse'\n",
    "\n",
    "class ball:\n",
    "    def __init__(self, id):\n",
    "        self.weight = max(0, 1 + np.random.normal(1,0.3,1)[0])\n",
    "        self.cut_off = 1 + z_critical*(0.3)\n",
    "        self.name = 'ball'\n",
    "\n",
    "class bike:\n",
    "    def __init__(self, id):\n",
    "        self.weight = max(0, np.random.normal(20,10,1)[0])\n",
    "        self.cut_off = 20 + z_critical*(10)\n",
    "        self.name = 'bike'\n",
    "\n",
    "class train:\n",
    "    def __init__(self, id):\n",
    "        self.weight = max(0, np.random.normal(10,5,1)[0])\n",
    "        self.cut_off = 10 + z_critical*(5)\n",
    "        self.name = 'train'\n",
    "\n",
    "class coal:\n",
    "    def __init__(self, id):\n",
    "        self.weight = 47 * np.random.beta(0.5,0.5,1)[0]\n",
    "        self.name = 'coal'\n",
    "\n",
    "class book:\n",
    "    def __init__(self, id):\n",
    "        self.weight = np.random.chisquare(2,1)[0]\n",
    "        self.name = 'book'\n",
    "\n",
    "class doll:\n",
    "    def __init__(self, id):\n",
    "        self.weight = np.random.gamma(5,1,1)[0] #6.5\n",
    "        self.name = 'doll'\n",
    "\n",
    "class block:\n",
    "    def __init__(self, id):\n",
    "        self.weight = np.random.triangular(5,10,20,1)[0]\n",
    "        self.name = 'block'\n",
    "\n",
    "class gloves:\n",
    "    def __init__(self, id):\n",
    "        self.weight = 3.0 + np.random.rand(1)[0] if np.random.rand(1) < 0.3 else np.random.rand(1)[0]\n",
    "        self.cut_off = 3 + 0.85 ## AS random should be a uniform distribution\n",
    "        self.name = 'gloves'\n",
    "\n",
    "\n",
    "horses = np.histogram([horse(x).weight for x in range(samples)])\n",
    "balls = np.histogram([ball(x).weight for x in range(samples)])\n",
    "bikes = np.histogram([horse(x).weight for x in range(samples)])\n",
    "trains = np.histogram([train(x).weight for x in range(samples)])\n",
    "coals = np.histogram([coal(x).weight for x in range(samples)])\n",
    "books = np.histogram([book(x).weight for x in range(samples)])\n",
    "dolls = np.histogram([doll(x).weight for x in range(samples)])\n",
    "blocks = np.histogram([block(x).weight for x in range(samples)])\n",
    "gloves = np.histogram([gloves(x).weight for x in range(samples)])"
   ]
  },
  {
   "cell_type": "code",
   "execution_count": 4,
   "metadata": {
    "collapsed": true
   },
   "outputs": [],
   "source": [
    "def calc_rela_freq_cummulative(hist):\n",
    "    cummulative = 0\n",
    "    rel_freq = []\n",
    "    for val in hist[0]:\n",
    "        freq = cummulative + float(val)/float(samples)\n",
    "        cummulative = freq\n",
    "        rel_freq.append(freq)\n",
    "    return np.asarray(rel_freq)\n",
    "horses = (calc_rela_freq_cummulative(horses), horses[1])\n",
    "balls = (calc_rela_freq_cummulative(balls), balls[1])\n",
    "bikes = (calc_rela_freq_cummulative(bikes), bikes[1])\n",
    "trains = (calc_rela_freq_cummulative(trains), trains[1])\n",
    "coals = (calc_rela_freq_cummulative(coals), coals[1])\n",
    "books = (calc_rela_freq_cummulative(books), books[1])\n",
    "dolls = (calc_rela_freq_cummulative(dolls), dolls[1])\n",
    "blocks = (calc_rela_freq_cummulative(blocks), blocks[1])\n",
    "gloves = (calc_rela_freq_cummulative(gloves), gloves[1])"
   ]
  },
  {
   "cell_type": "code",
   "execution_count": 5,
   "metadata": {
    "collapsed": false
   },
   "outputs": [
    {
     "name": "stdout",
     "output_type": "stream",
     "text": [
      "For horses the value in the 80 percnetlie is 7.54886706111\n",
      "No Element found in that range\n",
      "For balls the value in the 80 percnetlie is 0.949761943779\n",
      "For bikes the value in the 80 percnetlie is 7.11172082722\n",
      "For trains the value in the 80 percnetlie is 14.6370092361\n",
      "No Element found in that range\n",
      "For coals the value in the 80 percnetlie is 2.92358952303e-07\n",
      "For books the value in the 80 percnetlie is 3.94584230081\n",
      "For dolls the value in the 80 percnetlie is 7.29992502097\n",
      "For blocks the value in the 80 percnetlie is 15.4251052967\n",
      "For gloves the value in the 80 percnetlie is 3.59958592104\n"
     ]
    }
   ],
   "source": [
    "def get_80_percentile(rel_hist):\n",
    "    for i, x in enumerate(rel_hist[0]):\n",
    "        if x > 0.79999 and x < 0.9:\n",
    "            return [i, i+1]\n",
    "    print 'No Element found in that range'\n",
    "    return [0, 0]\n",
    "rel_arr = [horses, balls, bikes, trains, coals, books, dolls, blocks, gloves]\n",
    "rel_arr_names = ['horses', 'balls', 'bikes', 'trains', 'coals', 'books', 'dolls', 'blocks', 'gloves']\n",
    "weights = []\n",
    "for i, x in enumerate(rel_arr):\n",
    "    weight = x[1][get_80_percentile(x)[1]]\n",
    "    print 'For', rel_arr_names[i], 'the value in the 80 percnetlie is', weight\n",
    "    weights.append(weight)"
   ]
  },
  {
   "cell_type": "code",
   "execution_count": null,
   "metadata": {
    "collapsed": true
   },
   "outputs": [],
   "source": []
  }
 ],
 "metadata": {
  "kernelspec": {
   "display_name": "Python [Root]",
   "language": "python",
   "name": "Python [Root]"
  },
  "language_info": {
   "codemirror_mode": {
    "name": "ipython",
    "version": 2
   },
   "file_extension": ".py",
   "mimetype": "text/x-python",
   "name": "python",
   "nbconvert_exporter": "python",
   "pygments_lexer": "ipython2",
   "version": "2.7.12"
  }
 },
 "nbformat": 4,
 "nbformat_minor": 0
}
