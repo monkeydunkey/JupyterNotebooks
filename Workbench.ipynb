{
 "cells": [
  {
   "cell_type": "markdown",
   "metadata": {},
   "source": [
    "This notebook is to just try out multiple different tutorials and other blogs material"
   ]
  },
  {
   "cell_type": "code",
   "execution_count": 2,
   "metadata": {
    "collapsed": false
   },
   "outputs": [],
   "source": [
    "import pandas as pd\n",
    "import numpy as np\n",
    "from matplotlib import pyplot as plt\n",
    "\n",
    "%matplotlib inline"
   ]
  },
  {
   "cell_type": "markdown",
   "metadata": {},
   "source": [
    "## Time Series ananlysis"
   ]
  },
  {
   "cell_type": "code",
   "execution_count": 24,
   "metadata": {
    "collapsed": false
   },
   "outputs": [
    {
     "data": {
      "text/plain": [
       "DatetimeIndex(['2016-01-07 00:00:00+08:00', '2016-01-07 08:00:00+08:00',\n",
       "               '2016-01-07 16:00:00+08:00', '2016-01-08 00:00:00+08:00',\n",
       "               '2016-01-08 08:00:00+08:00', '2016-01-08 16:00:00+08:00',\n",
       "               '2016-01-09 00:00:00+08:00', '2016-01-09 08:00:00+08:00',\n",
       "               '2016-01-09 16:00:00+08:00', '2016-01-10 00:00:00+08:00',\n",
       "               ...\n",
       "               '2016-07-07 08:00:00+08:00', '2016-07-07 16:00:00+08:00',\n",
       "               '2016-07-08 00:00:00+08:00', '2016-07-08 08:00:00+08:00',\n",
       "               '2016-07-08 16:00:00+08:00', '2016-07-09 00:00:00+08:00',\n",
       "               '2016-07-09 08:00:00+08:00', '2016-07-09 16:00:00+08:00',\n",
       "               '2016-07-10 00:00:00+08:00', '2016-07-10 08:00:00+08:00'],\n",
       "              dtype='datetime64[ns, Asia/Hong_Kong]', length=557, freq='8H')"
      ]
     },
     "execution_count": 24,
     "metadata": {},
     "output_type": "execute_result"
    }
   ],
   "source": [
    "# date_range requires 3 of the parameters: Start, end, periods and freq. start, end and periods should not be together\n",
    "# normalize = set the time to midnight before generating the date range\n",
    "rng = pd.date_range(start = '1/7/2016', end = '2016 July 10 10:15', freq = '8H', tz = 'Asia/Hong_Kong')\n",
    "rng"
   ]
  },
  {
   "cell_type": "code",
   "execution_count": 49,
   "metadata": {
    "collapsed": false
   },
   "outputs": [
    {
     "data": {
      "text/plain": [
       "4"
      ]
     },
     "execution_count": 49,
     "metadata": {},
     "output_type": "execute_result"
    }
   ],
   "source": [
    "t = pd.Timestamp('7/15/2016')\n",
    "t.dayofweek"
   ]
  },
  {
   "cell_type": "code",
   "execution_count": 47,
   "metadata": {
    "collapsed": false
   },
   "outputs": [
    {
     "data": {
      "text/plain": [
       "Timestamp('2016-12-29 00:00:00.000001')"
      ]
     },
     "execution_count": 47,
     "metadata": {},
     "output_type": "execute_result"
    }
   ],
   "source": [
    "t + pd.Timedelta('3 days 1us')"
   ]
  },
  {
   "cell_type": "code",
   "execution_count": 50,
   "metadata": {
    "collapsed": false
   },
   "outputs": [
    {
     "data": {
      "text/plain": [
       "True"
      ]
     },
     "execution_count": 50,
     "metadata": {},
     "output_type": "execute_result"
    }
   ],
   "source": [
    "p = pd.Period('7/2016')\n",
    "t > p.start_time and t < p.end_time"
   ]
  },
  {
   "cell_type": "code",
   "execution_count": null,
   "metadata": {
    "collapsed": true
   },
   "outputs": [],
   "source": []
  }
 ],
 "metadata": {
  "anaconda-cloud": {},
  "kernelspec": {
   "display_name": "Python [Root]",
   "language": "python",
   "name": "Python [Root]"
  },
  "language_info": {
   "codemirror_mode": {
    "name": "ipython",
    "version": 2
   },
   "file_extension": ".py",
   "mimetype": "text/x-python",
   "name": "python",
   "nbconvert_exporter": "python",
   "pygments_lexer": "ipython2",
   "version": "2.7.12"
  }
 },
 "nbformat": 4,
 "nbformat_minor": 0
}
