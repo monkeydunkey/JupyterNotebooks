{
 "cells": [
  {
   "cell_type": "code",
   "execution_count": 1,
   "metadata": {
    "collapsed": true
   },
   "outputs": [],
   "source": [
    "import numpy as np\n",
    "import pandas as pd\n",
    "from matplotlib import pyplot as plt\n",
    "%matplotlib inline"
   ]
  },
  {
   "cell_type": "markdown",
   "metadata": {},
   "source": [
    "## Introduction\n",
    "Logistic Regression is a classification method that is used to model data for binary classification purpose. It can be seen as an extension of linear regression, though in purely mathematical standpoint linear regession is derieved out of a Gaussian distribution whereas Logistic Regession comes from a Binomial Distribution. But it makes perfect sense to see it as an extension of Linear regression as the model definition seems to be quite similar. Lets me explain what I mean,\n",
    "\n",
    "A simple linear regression equation for a data set with 2 predictors is given by:- \n",
    "$$h(x) = a*x_1 + b*x_2 + c$$\n",
    "Where x_1 and x_2 are the 2 features available for each datapoint and a,b and c are the weights that we want to learn. It is easy to visualize that this same equation can be used to output probabilities in a classification problem, but a problem with this is that linear regression outputs values in the range of -Inf to +Inf whereas for probabilities we would like to restrict it between 0 and 1. Though a lot of functions can be used to restrict this range but the most common and frequent one is known as the sigmoid function. A sigmoid function is given by:\n",
    "$$g(z) = {\\frac{1}{1+e^{-x}}}$$\n",
    "\n",
    "Visually it looks like:\n",
    "![Sigmoid Function](SigmoidFunction.png)\n",
    "\n",
    "So basically this maps the values produced by the linear regression function between 0 and 1. So a logistic regression equation looks like the following:\n",
    "$$g(z) = {\\frac{1}{1+e^{-h(x)}}}$$\n",
    "where $h(x) = a*x_1 + b*x_2 + c$\n",
    "\n",
    "## How does it work\n",
    "Intuitively it makes sense that if we were to somehow get the correct values for parameters a, b and c we in essence have would have the equation that can generate the population from which our given sample was drawn from. The question now becomes how do we learn these parameters. \n",
    "\n",
    "A common method to estimate the values of such parameters is to either try to maximize or minimize a given value. For Logistic regression we want to maximize the likelihood of the class assignment to be correct. A common way to do this is to gradually update the parameters in order to maxime the likelihood of the correct class, this method is called gradient ascent. General purpose gradient ascent equation looks like:\n",
    "$$θ_j :=θ_j +α \\frac{∂}{∂θ}J(θ)$$\n",
    "So basically in the equation above $J(θ)$ represents the function whose value we want to maximize, which in our case will be the likelihood value. So, likelihood can be written as \n",
    "$$P(y=1|x) = g(x)$$\n",
    "$$P(y=0|x) = 1−g(x)$$\n",
    "\n",
    "It can be written more compactly as\n",
    "$$p(y | x) = (g(x))^{y} (1 − g(x))^{1−y}$$\n",
    "\n",
    "Before moving on, here’s a useful property of the derivative of the sigmoid function, which we write as g′:\n",
    "$$g′(z) = \\frac{d}{dz} \\frac{1}{1+e^{−z}}$$\n",
    "$$ = \\frac{1}{(1 + e^{−z})^2}(e^{−z})$$\n",
    "$$ = \\frac{1}{(1 + e^{−z})}·(1 − \\frac{1}{(1 + e^{−z})} )$$\n",
    "$$ = g(z)(1 − g(z)).$$\n",
    "\n",
    "Lets now continue with the derivation, we can then write down the likelihood of the parameters as\n",
    "$$L(θ) = p(y|X;θ)$$\n",
    "$$\\prod_{1}^{m} p(y^{(i)} | x^{(i)}; θ)$$\n",
    "$$\\prod_{1}^{m} g(x^{(i)})^{y^{(i)}}  1 − g(x^{(i)})^{1−y^{(i)}}$$\n",
    "\n",
    "It will be easier now if try and maximize log likelihood instead of likehood\n",
    "$$l(θ) = log L(θ)$$\n",
    "$$=\\sum_{i}^{m}y^{(i)} log g(x^{(i)}) + (1 − y^{(i)}) log(1 − g(x^{(i)}))$$\n",
    "\n",
    "lets now take the derivative to derive the gradient ascent rule\n",
    "    $$\\frac{∂}{∂θ} l(θ) =  y\\frac{1}{g(θ^Tx)} −(1−y)\\frac{1}{1 − g(θ^Tx)})\\frac{∂}{∂θj}g(θ^Tx)$$\n",
    "    $$ = (y\\frac{1}{g(θ^Tx)} −(1−y)\\frac{1}{(1−g(θ^Tx)})g(θ^Tx)(1 − g(θ^Tx))\\frac{∂}{∂θj}θ^Tx $$\n",
    "    $$ = (y(1−g(θ^Tx))−(1−y)g(θ^Tx))x_j$$\n",
    "    $$ = (y−g(θ^Tx))x_j$$\n",
    "\n",
    "Solving some mathematical formulas we get the following weight update equation:\n",
    "$$ \\theta_j :=\\theta_j + \\alpha (y^{(i)} − g(x^{(i)})) x^{(j)}$$\n",
    " \n",
    "where $\\theta_j$ is the jth weight parameter and $y^{(i)}$ and $x^{(i)}$ represents the ith data sample. The full mathematical equation is worked below. \n",
    "\n",
    "## Use case\n",
    "Logistic regression is a parametric model which means it can be used to draw inferences from a given dataset. For example if we have a dataset about whether a person has a given disease or not along with a lot of information about that person like their dietary habits, their Hygiene condition, the medication they use and so on and so forth. Then in addition to predicting whether a new person will get that disease or not we can also see and understand which are the factors that most contribute towards the detection of the disease and come up with appropriate preventive measures."
   ]
  },
  {
   "cell_type": "code",
   "execution_count": 3,
   "metadata": {
    "collapsed": false
   },
   "outputs": [
    {
     "data": {
      "image/png": "[encoded data removed]",
      "text/plain": [
       "<matplotlib.figure.Figure at 0x112701dd0>"
      ]
     },
     "metadata": {},
     "output_type": "display_data"
    }
   ],
   "source": [
    "# Helper code used to generate the graph for the sigmoid function\n",
    "# Sigmoid Function Generation\n",
    "def sigmoid(x):\n",
    "    return 1.0 / (1.0 + np.exp(-x))\n",
    "\n",
    "z = np.arange(-7, 7, 0.1)\n",
    "gx = sigmoid(z)\n",
    "\n",
    "plt.plot(z, gx)\n",
    "plt.axvline(0.0, color='k')\n",
    "plt.ylim(-0.1, 1.1)\n",
    "plt.xlabel('z')\n",
    "plt.ylabel('$g (z)$')\n",
    "\n",
    "# y axis ticks and gridline\n",
    "plt.yticks([0.0, 0.5, 1.0])\n",
    "ax = plt.gca()\n",
    "ax.yaxis.grid(True)\n",
    "\n",
    "plt.tight_layout()\n",
    "plt.show()"
   ]
  }
 ],
 "metadata": {
  "kernelspec": {
   "display_name": "Python [Root]",
   "language": "python",
   "name": "Python [Root]"
  },
  "language_info": {
   "codemirror_mode": {
    "name": "ipython",
    "version": 2
   },
   "file_extension": ".py",
   "mimetype": "text/x-python",
   "name": "python",
   "nbconvert_exporter": "python",
   "pygments_lexer": "ipython2",
   "version": "2.7.12"
  }
 },
 "nbformat": 4,
 "nbformat_minor": 0
}
