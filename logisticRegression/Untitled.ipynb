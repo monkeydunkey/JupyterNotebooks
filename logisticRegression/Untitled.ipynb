{
 "cells": [
  {
   "cell_type": "markdown",
   "metadata": {},
   "source": [
    "Logistic Regression:\n",
    "$$g(z) = {\\frac{1}{1+e^{-h(z)}}}$$\n",
    "\n",
    "Where $h(z)$ is a similar to a linear regession equation\n",
    " $$h(z) = az_1 + bz_2 + c$$\n",
    "\n",
    "\n",
    "$$g(z) = {\\frac{1}{1+e^{-z}}}$$\n",
    "\n",
    "Visually it looks like:\n",
    "![Sigmoid Function](SigmoidFunction.png)\n",
    "\n",
    "Parameter weight update equation:\n",
    "$$ \\theta_j :=\\theta_j + \\alpha (y^{(i)} − g(z^{(i)})) z^{(j)}$$"
   ]
  },
  {
   "cell_type": "code",
   "execution_count": null,
   "metadata": {
    "collapsed": true
   },
   "outputs": [],
   "source": []
  }
 ],
 "metadata": {
  "anaconda-cloud": {},
  "kernelspec": {
   "display_name": "Python [Root]",
   "language": "python",
   "name": "Python [Root]"
  },
  "language_info": {
   "codemirror_mode": {
    "name": "ipython",
    "version": 2
   },
   "file_extension": ".py",
   "mimetype": "text/x-python",
   "name": "python",
   "nbconvert_exporter": "python",
   "pygments_lexer": "ipython2",
   "version": "2.7.12"
  }
 },
 "nbformat": 4,
 "nbformat_minor": 0
}
